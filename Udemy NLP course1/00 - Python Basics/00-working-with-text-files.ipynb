{
 "cells": [
  {
   "cell_type": "code",
   "execution_count": 2,
   "id": "7d942f79-20ba-4614-aa2f-1895644895b8",
   "metadata": {},
   "outputs": [
    {
     "name": "stdout",
     "output_type": "stream",
     "text": [
      "His name is Fred\n"
     ]
    }
   ],
   "source": [
    "name =\"Fred\"\n",
    "print(f\"His name is {name}\")"
   ]
  },
  {
   "cell_type": "code",
   "execution_count": 3,
   "id": "f449f859-1abc-4426-8828-19a1eb4bc155",
   "metadata": {},
   "outputs": [
    {
     "name": "stdout",
     "output_type": "stream",
     "text": [
      "his name is'Fred'\n"
     ]
    }
   ],
   "source": [
    "print(f\"his name is'{name}'\")"
   ]
  },
  {
   "cell_type": "code",
   "execution_count": 5,
   "id": "a9f51880-2765-4e84-849f-c005464aac1f",
   "metadata": {},
   "outputs": [
    {
     "name": "stdout",
     "output_type": "stream",
     "text": [
      "123\n",
      "Address : 123 Main street\n"
     ]
    }
   ],
   "source": [
    "d = {'a':123,\"b\":456}\n",
    "\n",
    "print(d['a'])\n",
    "\n",
    "print(f\"Address : {d['a']} Main street\")"
   ]
  },
  {
   "cell_type": "code",
   "execution_count": 9,
   "id": "7c38462e-1271-40d6-b323-f94872cdd56d",
   "metadata": {},
   "outputs": [
    {
     "name": "stdout",
     "output_type": "stream",
     "text": [
      "Author       Topic         Pages\n",
      "Twain       Rafting          601\n",
      "Feynman     Physics           95\n",
      "Hamilton   Mythology         144\n"
     ]
    }
   ],
   "source": [
    "library = [('Author', 'Topic', 'Pages'), ('Twain', 'Rafting', 601), ('Feynman', 'Physics', 95), ('Hamilton', 'Mythology', 144)]\n",
    "\n",
    "for book in library:\n",
    "    print(f\"{book[0]:<{10}} {book[1]:^{10}} {book[2]:>{10}}\")"
   ]
  },
  {
   "cell_type": "code",
   "execution_count": 10,
   "id": "d340feb3-584e-48a7-8556-e2e92a0019ef",
   "metadata": {},
   "outputs": [],
   "source": [
    "from datetime import datetime"
   ]
  },
  {
   "cell_type": "code",
   "execution_count": 14,
   "id": "5bebf5ca-0558-49af-9066-03df258d04cc",
   "metadata": {},
   "outputs": [],
   "source": [
    "today = datetime(year=2024, month=11, day=27)"
   ]
  },
  {
   "cell_type": "code",
   "execution_count": 25,
   "id": "cf62b3d0-cb1c-492d-a902-e5d6dc4b163a",
   "metadata": {},
   "outputs": [
    {
     "name": "stdout",
     "output_type": "stream",
     "text": [
      "November 27, 2024\n"
     ]
    }
   ],
   "source": [
    "print(f\"{today:%B %d, %Y}\")"
   ]
  },
  {
   "cell_type": "code",
   "execution_count": 27,
   "id": "fd54e997-c4b6-41ef-b5a0-a0bb7450b733",
   "metadata": {},
   "outputs": [
    {
     "name": "stdout",
     "output_type": "stream",
     "text": [
      "Overwriting text.txt\n"
     ]
    }
   ],
   "source": [
    "%%writefile text.txt\n",
    "hello, this is the quick test file.\n",
    "this is the second line of the file."
   ]
  },
  {
   "cell_type": "code",
   "execution_count": 31,
   "id": "dde6a664-bf29-419d-9648-8004383816f2",
   "metadata": {},
   "outputs": [],
   "source": [
    "myfile = open(\"text.txt\",encoding=\"utf-8\")"
   ]
  },
  {
   "cell_type": "code",
   "execution_count": 32,
   "id": "35c7dafb-2935-4a62-8129-b9bcd77a79b4",
   "metadata": {},
   "outputs": [
    {
     "data": {
      "text/plain": [
       "'hello, this is the quick test file.\\nthis is the second line of the file.\\n'"
      ]
     },
     "execution_count": 32,
     "metadata": {},
     "output_type": "execute_result"
    }
   ],
   "source": [
    "myfile.read()"
   ]
  },
  {
   "cell_type": "code",
   "execution_count": 33,
   "id": "dbf48e32-de35-4685-93cc-f70912c1cea9",
   "metadata": {},
   "outputs": [
    {
     "data": {
      "text/plain": [
       "''"
      ]
     },
     "execution_count": 33,
     "metadata": {},
     "output_type": "execute_result"
    }
   ],
   "source": [
    "myfile.read()"
   ]
  },
  {
   "cell_type": "code",
   "execution_count": 38,
   "id": "30e8ede2-fcf8-4a60-be1f-2493b289320b",
   "metadata": {},
   "outputs": [
    {
     "data": {
      "text/plain": [
       "0"
      ]
     },
     "execution_count": 38,
     "metadata": {},
     "output_type": "execute_result"
    }
   ],
   "source": [
    "#this will reset the cursor to the starting position\n",
    "myfile.seek(0)"
   ]
  },
  {
   "cell_type": "code",
   "execution_count": 36,
   "id": "db6b7ce5-3b86-410f-ad8d-99edca21b6c3",
   "metadata": {},
   "outputs": [
    {
     "data": {
      "text/plain": [
       "'hello, this is the quick test file.\\nthis is the second line of the file.\\n'"
      ]
     },
     "execution_count": 36,
     "metadata": {},
     "output_type": "execute_result"
    }
   ],
   "source": [
    "myfile.read()"
   ]
  },
  {
   "cell_type": "code",
   "execution_count": 40,
   "id": "a6864519-5872-43e6-aeab-4cdaafc0964a",
   "metadata": {},
   "outputs": [
    {
     "data": {
      "text/plain": [
       "['hello, this is the quick test file.\\n',\n",
       " 'this is the second line of the file.\\n']"
      ]
     },
     "execution_count": 40,
     "metadata": {},
     "output_type": "execute_result"
    }
   ],
   "source": [
    "myfile.seek(0)\n",
    "myfile.readlines()"
   ]
  },
  {
   "cell_type": "code",
   "execution_count": 41,
   "id": "9b4ee60b-b746-4834-8f8f-260b4d193b23",
   "metadata": {},
   "outputs": [],
   "source": [
    "myfile.close()"
   ]
  },
  {
   "cell_type": "code",
   "execution_count": 71,
   "id": "fe781af0-1da8-45bf-9e3f-7a6b42e0a684",
   "metadata": {},
   "outputs": [
    {
     "data": {
      "text/plain": [
       "71"
      ]
     },
     "execution_count": 71,
     "metadata": {},
     "output_type": "execute_result"
    }
   ],
   "source": [
    "myfile = open(\"text.txt\",'w')\n",
    "myfile.write(\"when i use w it will delete the file content \\n which is already present\") "
   ]
  },
  {
   "cell_type": "code",
   "execution_count": 72,
   "id": "13a6b80c-7725-493c-bde9-d9cb6a82791d",
   "metadata": {},
   "outputs": [],
   "source": [
    "myfile.close()"
   ]
  },
  {
   "cell_type": "code",
   "execution_count": 90,
   "id": "6f0a78b0-1149-46ab-b31b-2a8751c47d09",
   "metadata": {},
   "outputs": [],
   "source": [
    "myfile = open(\"text.txt\",encoding=\"utf-8\")"
   ]
  },
  {
   "cell_type": "code",
   "execution_count": 74,
   "id": "0d248acb-0909-4c80-976d-675cfcc18299",
   "metadata": {},
   "outputs": [
    {
     "data": {
      "text/plain": [
       "'when i use w it will delete the file content \\n which is already present'"
      ]
     },
     "execution_count": 74,
     "metadata": {},
     "output_type": "execute_result"
    }
   ],
   "source": [
    "myfile.seek(0)\n",
    "myfile.read()"
   ]
  },
  {
   "cell_type": "code",
   "execution_count": 75,
   "id": "4fb7666c-19b9-479f-b556-b4dc7da515de",
   "metadata": {},
   "outputs": [],
   "source": [
    "myfile.close()"
   ]
  },
  {
   "cell_type": "code",
   "execution_count": 76,
   "id": "6379f691-00f1-4f22-9b18-2b5fc014d3cf",
   "metadata": {},
   "outputs": [
    {
     "data": {
      "text/plain": [
       "11"
      ]
     },
     "execution_count": 76,
     "metadata": {},
     "output_type": "execute_result"
    }
   ],
   "source": [
    "myfile = open(\"text.txt\",\"a+\")\n",
    "myfile.write(\"\\nthis \\n line is being appended to this file\")\n",
    "myfile.write(\"\\nthis\\n also\")"
   ]
  },
  {
   "cell_type": "code",
   "execution_count": 77,
   "id": "9a4c6e2a-65ee-4525-8483-99f135725eef",
   "metadata": {},
   "outputs": [
    {
     "name": "stdout",
     "output_type": "stream",
     "text": [
      "when i use w it will delete the file content \n",
      " which is already present\n",
      "this \n",
      " line is being appended to this file\n",
      "this\n",
      " also\n"
     ]
    }
   ],
   "source": [
    "myfile.seek(0)\n",
    "print(myfile.read())"
   ]
  },
  {
   "cell_type": "code",
   "execution_count": 78,
   "id": "7c336291-e47e-4a87-85fc-2884cfabd328",
   "metadata": {},
   "outputs": [
    {
     "name": "stdout",
     "output_type": "stream",
     "text": [
      "Appending to text.txt\n"
     ]
    }
   ],
   "source": [
    "%%writefile -a text.txt\n",
    "\n",
    "this is using -a comand along with percent percent writefile"
   ]
  },
  {
   "cell_type": "code",
   "execution_count": 89,
   "id": "b1ceac59-b657-4b4f-893f-c1162a3f7562",
   "metadata": {},
   "outputs": [
    {
     "name": "stdout",
     "output_type": "stream",
     "text": [
      "when i use w it will delete the file content \n",
      " which is already present\n",
      "this \n",
      " line is being appended to this file\n",
      "this\n",
      " also\n",
      "this is using -a comand along with percent percent writefile\n",
      "\n"
     ]
    }
   ],
   "source": [
    "myfile.seek(0)\n",
    "print(myfile.read())"
   ]
  },
  {
   "cell_type": "code",
   "execution_count": 88,
   "id": "c966965e-cc2f-4a4b-bbc3-12bded27ed16",
   "metadata": {},
   "outputs": [
    {
     "data": {
      "text/plain": [
       "['when i use w it will delete the file content \\n',\n",
       " ' which is already present\\n',\n",
       " 'this \\n',\n",
       " ' line is being appended to this file\\n',\n",
       " 'this\\n',\n",
       " ' also\\n',\n",
       " 'this is using -a comand along with percent percent writefile\\n']"
      ]
     },
     "execution_count": 88,
     "metadata": {},
     "output_type": "execute_result"
    }
   ],
   "source": [
    "with open(\"text.txt\", \"r\") as file:\n",
    "    first_line = file.readlines()\n",
    "\n",
    "first_line"
   ]
  },
  {
   "cell_type": "code",
   "execution_count": 91,
   "id": "af32d462-6acc-4380-b20a-22c536884756",
   "metadata": {},
   "outputs": [],
   "source": [
    "myfile.close()"
   ]
  },
  {
   "cell_type": "code",
   "execution_count": 92,
   "id": "dcec3787-90a8-47cd-a149-bb10324f1672",
   "metadata": {},
   "outputs": [
    {
     "ename": "ValueError",
     "evalue": "I/O operation on closed file.",
     "output_type": "error",
     "traceback": [
      "\u001b[1;31m---------------------------------------------------------------------------\u001b[0m",
      "\u001b[1;31mValueError\u001b[0m                                Traceback (most recent call last)",
      "Cell \u001b[1;32mIn[92], line 1\u001b[0m\n\u001b[1;32m----> 1\u001b[0m \u001b[43mfile\u001b[49m\u001b[38;5;241;43m.\u001b[39;49m\u001b[43mread\u001b[49m\u001b[43m(\u001b[49m\u001b[43m)\u001b[49m\n",
      "\u001b[1;31mValueError\u001b[0m: I/O operation on closed file."
     ]
    }
   ],
   "source": [
    "file.read()"
   ]
  },
  {
   "cell_type": "code",
   "execution_count": 94,
   "id": "7d0dff0a-38df-4de7-88b1-3339624bb947",
   "metadata": {},
   "outputs": [
    {
     "name": "stdout",
     "output_type": "stream",
     "text": [
      "when i use w it will delete the file content \n",
      "  which is already present\n",
      " this \n",
      "  line is being appended to this file\n",
      " this\n",
      "  also\n",
      " this is using -a comand along with percent percent writefile\n",
      " "
     ]
    }
   ],
   "source": [
    "with open(\"text.txt\") as f:\n",
    "    for line in f:\n",
    "        print(line,end=\" \")"
   ]
  },
  {
   "cell_type": "code",
   "execution_count": null,
   "id": "dd30dbe8-d811-4aef-ac70-beaae06e4ec8",
   "metadata": {},
   "outputs": [],
   "source": []
  }
 ],
 "metadata": {
  "kernelspec": {
   "display_name": "Python 3 (ipykernel)",
   "language": "python",
   "name": "python3"
  },
  "language_info": {
   "codemirror_mode": {
    "name": "ipython",
    "version": 3
   },
   "file_extension": ".py",
   "mimetype": "text/x-python",
   "name": "python",
   "nbconvert_exporter": "python",
   "pygments_lexer": "ipython3",
   "version": "3.10.4"
  }
 },
 "nbformat": 4,
 "nbformat_minor": 5
}
