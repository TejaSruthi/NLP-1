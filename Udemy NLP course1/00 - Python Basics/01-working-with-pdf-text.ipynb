{
 "cells": [
  {
   "cell_type": "code",
   "execution_count": 2,
   "id": "5a132a08-4453-41d7-9a07-bf6942851e37",
   "metadata": {},
   "outputs": [
    {
     "name": "stdout",
     "output_type": "stream",
     "text": [
      "Requirement already satisfied: PyPDF2 in c:\\users\\te20312262\\appdata\\local\\programs\\python\\python310\\lib\\site-packages (3.0.1)"
     ]
    },
    {
     "name": "stderr",
     "output_type": "stream",
     "text": [
      "WARNING: Ignoring invalid distribution -umpy (c:\\users\\te20312262\\appdata\\local\\programs\\python\\python310\\lib\\site-packages)\n",
      "WARNING: Ignoring invalid distribution -umpy (c:\\users\\te20312262\\appdata\\local\\programs\\python\\python310\\lib\\site-packages)\n"
     ]
    },
    {
     "name": "stdout",
     "output_type": "stream",
     "text": [
      "\n"
     ]
    }
   ],
   "source": [
    "!pip install PyPDF2"
   ]
  },
  {
   "cell_type": "code",
   "execution_count": 3,
   "id": "80d4b6ee-b7bd-4a2f-b57f-c00f7086c784",
   "metadata": {},
   "outputs": [],
   "source": [
    "import PyPDF2"
   ]
  },
  {
   "cell_type": "code",
   "execution_count": 9,
   "id": "f9709408-bda1-45f8-8ca0-1d2ab88873d3",
   "metadata": {},
   "outputs": [],
   "source": [
    "f= open(\"US_Declaration.pdf\",\"rb\")"
   ]
  },
  {
   "cell_type": "code",
   "execution_count": 13,
   "id": "b49a41a5-c15a-4c62-977c-5627ac40b29f",
   "metadata": {},
   "outputs": [],
   "source": [
    "pdf_reader = PyPDF2.PdfReader(f)"
   ]
  },
  {
   "cell_type": "code",
   "execution_count": 18,
   "id": "aadb1361-c691-4b93-b288-52c1ab03da2d",
   "metadata": {},
   "outputs": [
    {
     "data": {
      "text/plain": [
       "5"
      ]
     },
     "execution_count": 18,
     "metadata": {},
     "output_type": "execute_result"
    }
   ],
   "source": [
    "len(pdf_reader.pages)"
   ]
  },
  {
   "cell_type": "code",
   "execution_count": 19,
   "id": "fe5eacfd-1d25-4ced-8e13-79430f54ec4d",
   "metadata": {},
   "outputs": [
    {
     "name": "stdout",
     "output_type": "stream",
     "text": [
      "{'/Type': '/Page', '/Parent': IndirectObject(2, 0, 1974543417504), '/Contents': IndirectObject(36, 0, 1974543417504), '/MediaBox': [0, 0, 612, 792], '/Resources': {'/Font': {'/F9': IndirectObject(9, 0, 1974543417504), '/F6': IndirectObject(6, 0, 1974543417504)}, '/ProcSet': ['/PDF', '/Text']}}\n",
      "{'/Type': '/Page', '/Parent': IndirectObject(2, 0, 1974543417504), '/Contents': IndirectObject(13, 0, 1974543417504), '/MediaBox': [0, 0, 612, 792], '/Resources': {'/ProcSet': ['/PDF', '/Text'], '/Font': {'/F6': IndirectObject(6, 0, 1974543417504)}}}\n",
      "{'/Type': '/Page', '/Parent': IndirectObject(2, 0, 1974543417504), '/Contents': IndirectObject(15, 0, 1974543417504), '/MediaBox': [0, 0, 612, 792], '/Resources': {'/ProcSet': ['/PDF', '/Text'], '/Font': {'/F6': IndirectObject(6, 0, 1974543417504)}}}\n",
      "{'/Type': '/Page', '/Parent': IndirectObject(2, 0, 1974543417504), '/Contents': IndirectObject(451, 0, 1974543417504), '/MediaBox': [0, 0, 612, 792], '/Resources': {'/Font': {'/F18': IndirectObject(18, 0, 1974543417504), '/F6': IndirectObject(6, 0, 1974543417504), '/F9': IndirectObject(9, 0, 1974543417504)}, '/ProcSet': ['/PDF', '/Text']}}\n",
      "{'/Type': '/Page', '/Parent': IndirectObject(2, 0, 1974543417504), '/Contents': IndirectObject(509, 0, 1974543417504), '/MediaBox': [0, 0, 612, 792], '/Resources': {'/Font': {'/F6': IndirectObject(6, 0, 1974543417504), '/F9': IndirectObject(9, 0, 1974543417504)}, '/ProcSet': ['/PDF', '/Text']}}\n"
     ]
    }
   ],
   "source": [
    "for i in pdf_reader.pages:\n",
    "    print(i)"
   ]
  },
  {
   "cell_type": "code",
   "execution_count": 24,
   "id": "18e7d22b-669f-4ade-a19f-3b5e45f2fead",
   "metadata": {},
   "outputs": [
    {
     "data": {
      "text/plain": [
       "\"Declaration of Independence\\nIN CONGRESS, July 4, 1776.  \\nThe unanimous Declaration of the thirteen united States of America,  \\nWhen in the Course of human events, it becomes necessary for one people to dissolve thepolitical bands which have connected them with another, and to assume among the powers of theearth, the separate and equal station to which the Laws of Nature and of Nature's God entitlethem, a decent respect to the opinions of mankind requires that they should declare the causeswhich impel them to the separation. We hold these truths to be self-evident, that all men are created equal, that they are endowed bytheir Creator with certain unalienable Rights, that among these are Life, Liberty and the pursuit\\nof Happiness.— \\x14That to secure these rights, Governments are instituted among Men, derivingtheir just powers from the consent of the governed,—  \\x14That whenever any Form of Government\\nbecomes destructive of these ends, it is the Right of the People to alter or to abolish it, and to\\ninstitute new Government, laying its foundation on such principles and organizing its powers in\\nsuch form, as to them shall seem most likely to effect their Safety and Happiness. Prudence,indeed, will dictate that Governments long established should not be changed for light andtransient causes; and accordingly all experience hath shewn, that mankind are more disposed to\\nsuffer, while evils are sufferable, than to right themselves by abolishing the forms to which theyare accustomed. But when a long train of abuses and usurpations, pursuing invariably the same\\nObject evinces a design to reduce them under absolute Despotism, it is their right, it is their duty,\\nto throw off such Government, and to provide new Guards for their future securit y.— \\x14Such has\\nbeen the patient sufferance of these Colonies; and such is now the necessity which constrainsthem to alter their former Systems of Government. The history of the present King of GreatBritain is a history of repeated injuries and usurpations, all having in direct object the\\nestablishment of an absolute Tyranny over these States. To prove this, let Facts be submitted to a\\ncandid world. \\nHe has refused his Assent to Laws, the most wholesome and necessary for the\\npublic good.He has forbidden his Governors to pass Laws of immediate and pressingimportance, unless suspended in their operation till his Assent should be obtained;and when so suspended, he has utterly neglected to attend to them.He has refused to pass other Laws for the accommodation of large districts of\\npeople, unless those people would relinquish the right of Representation in theLegislature, a right inestimable to them and formidable to tyrants only. He has called together legislative bodies at places unusual, uncomfortable, and distantfrom the depository of their public Records, for the sole purpose of fatiguing them into\\ncompliance with his measures.\""
      ]
     },
     "execution_count": 24,
     "metadata": {},
     "output_type": "execute_result"
    }
   ],
   "source": [
    "pdf_reader.pages[0].extract_text()"
   ]
  },
  {
   "cell_type": "code",
   "execution_count": 25,
   "id": "9c11f277-9c8b-4efa-9018-6cdf55eb6805",
   "metadata": {},
   "outputs": [],
   "source": [
    "f.close()"
   ]
  },
  {
   "cell_type": "code",
   "execution_count": 33,
   "id": "333b4df1-3ff5-4a44-a666-cd6874c0a2d3",
   "metadata": {},
   "outputs": [
    {
     "ename": "TypeError",
     "evalue": "a bytes-like object is required, not 'PdfWriter'",
     "output_type": "error",
     "traceback": [
      "\u001b[1;31m---------------------------------------------------------------------------\u001b[0m",
      "\u001b[1;31mTypeError\u001b[0m                                 Traceback (most recent call last)",
      "Cell \u001b[1;32mIn[33], line 7\u001b[0m\n\u001b[0;32m      5\u001b[0m pdf_writer\u001b[38;5;241m.\u001b[39madd_page(first_page)\n\u001b[0;32m      6\u001b[0m output_pdf \u001b[38;5;241m=\u001b[39m \u001b[38;5;28mopen\u001b[39m(\u001b[38;5;124m\"\u001b[39m\u001b[38;5;124msome_pdf_write.pdf\u001b[39m\u001b[38;5;124m\"\u001b[39m,\u001b[38;5;124m\"\u001b[39m\u001b[38;5;124mwb\u001b[39m\u001b[38;5;124m\"\u001b[39m)\n\u001b[1;32m----> 7\u001b[0m \u001b[43moutput_pdf\u001b[49m\u001b[38;5;241;43m.\u001b[39;49m\u001b[43mwrite\u001b[49m\u001b[43m(\u001b[49m\u001b[43mpdf_writer\u001b[49m\u001b[43m)\u001b[49m\n\u001b[0;32m      8\u001b[0m out_pdf\u001b[38;5;241m.\u001b[39mclose()\n",
      "\u001b[1;31mTypeError\u001b[0m: a bytes-like object is required, not 'PdfWriter'"
     ]
    }
   ],
   "source": [
    "with open(\"US_Declaration.pdf\",\"rb\") as f:\n",
    "    pdf_reader = PyPDF2.PdfReader(f)\n",
    "    first_page = pdf_reader.pages[0]\n",
    "    pdf_writer = PyPDF2.PdfWriter()\n",
    "    pdf_writer.add_page(first_page)\n",
    "    output_pdf = open(\"some_pdf_write.pdf\",\"wb\")\n",
    "    output_pdf.write(pdf_writer)\n",
    "    out_pdf.close()"
   ]
  },
  {
   "cell_type": "code",
   "execution_count": null,
   "id": "bd926ead-976b-4fce-aa6a-1bc62ddd6139",
   "metadata": {},
   "outputs": [],
   "source": []
  }
 ],
 "metadata": {
  "kernelspec": {
   "display_name": "Python 3 (ipykernel)",
   "language": "python",
   "name": "python3"
  },
  "language_info": {
   "codemirror_mode": {
    "name": "ipython",
    "version": 3
   },
   "file_extension": ".py",
   "mimetype": "text/x-python",
   "name": "python",
   "nbconvert_exporter": "python",
   "pygments_lexer": "ipython3",
   "version": "3.10.4"
  }
 },
 "nbformat": 4,
 "nbformat_minor": 5
}
