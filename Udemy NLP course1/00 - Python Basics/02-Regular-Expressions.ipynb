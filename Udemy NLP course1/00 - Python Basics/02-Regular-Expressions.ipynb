{
 "cells": [
  {
   "cell_type": "code",
   "execution_count": 40,
   "id": "05fc4488-92ef-4a38-b4a9-212107373561",
   "metadata": {},
   "outputs": [],
   "source": [
    "import re"
   ]
  },
  {
   "cell_type": "code",
   "execution_count": 41,
   "id": "f1700ccd-88e1-4923-aed5-e6c8cd08b001",
   "metadata": {},
   "outputs": [],
   "source": [
    "text =\"my phone is a new phone\""
   ]
  },
  {
   "cell_type": "code",
   "execution_count": 42,
   "id": "0cd7f51d-93f6-4619-b1fc-4f96a62f93c7",
   "metadata": {},
   "outputs": [],
   "source": [
    "match=re.search(\"phone\",text) #---> search always gives the first matched string only even though many strings matched, so use findall for match everything"
   ]
  },
  {
   "cell_type": "code",
   "execution_count": 43,
   "id": "b77244da-7c9b-410d-a750-b4281f0bbae8",
   "metadata": {},
   "outputs": [
    {
     "data": {
      "text/plain": [
       "<re.Match object; span=(3, 8), match='phone'>"
      ]
     },
     "execution_count": 43,
     "metadata": {},
     "output_type": "execute_result"
    }
   ],
   "source": [
    "match"
   ]
  },
  {
   "cell_type": "code",
   "execution_count": 44,
   "id": "3beb384e-ca2a-4d23-b03a-fc4103bfd213",
   "metadata": {},
   "outputs": [],
   "source": [
    "matches =re.findall(\"phone\",text)"
   ]
  },
  {
   "cell_type": "code",
   "execution_count": 45,
   "id": "b04cd791-f941-4d1d-a781-93364d146b2b",
   "metadata": {},
   "outputs": [
    {
     "data": {
      "text/plain": [
       "['phone', 'phone']"
      ]
     },
     "execution_count": 45,
     "metadata": {},
     "output_type": "execute_result"
    }
   ],
   "source": [
    "matches"
   ]
  },
  {
   "cell_type": "code",
   "execution_count": 46,
   "id": "1ce02cfb-ac93-45f9-8d57-2d921b29debe",
   "metadata": {},
   "outputs": [
    {
     "name": "stdout",
     "output_type": "stream",
     "text": [
      "phone\n",
      "phone\n"
     ]
    }
   ],
   "source": [
    "for i in re.finditer(\"phone\",text):\n",
    "    print(i.group())"
   ]
  },
  {
   "cell_type": "code",
   "execution_count": 21,
   "id": "baa8af84-9d28-4911-bd3b-986ef4b2ce3e",
   "metadata": {},
   "outputs": [
    {
     "data": {
      "text/plain": [
       "'phone'"
      ]
     },
     "execution_count": 21,
     "metadata": {},
     "output_type": "execute_result"
    }
   ],
   "source": [
    "match.group()"
   ]
  },
  {
   "cell_type": "code",
   "execution_count": 22,
   "id": "ab088682-9c42-4573-9045-04fbc47deed0",
   "metadata": {},
   "outputs": [],
   "source": [
    "text = \"My telephone number is 408-555-1234\""
   ]
  },
  {
   "cell_type": "code",
   "execution_count": 30,
   "id": "0c841de8-d054-4425-9afa-d781ec1d2caa",
   "metadata": {},
   "outputs": [],
   "source": [
    "phone= re.search(\"\\d\\d\\d-\\d\\d\\d-\\d\\d\\d\\d\",text)"
   ]
  },
  {
   "cell_type": "code",
   "execution_count": 38,
   "id": "df633606-77c5-4062-b9fb-c71b9ddf8050",
   "metadata": {},
   "outputs": [
    {
     "data": {
      "text/plain": [
       "'408-555-1234'"
      ]
     },
     "execution_count": 38,
     "metadata": {},
     "output_type": "execute_result"
    }
   ],
   "source": [
    "phone.group()"
   ]
  },
  {
   "cell_type": "code",
   "execution_count": 47,
   "id": "7e65d91b-ae0a-4c89-b291-5deaf9f6d8a5",
   "metadata": {},
   "outputs": [],
   "source": [
    "text = 'Only find the hypen-words in this sentence. But you do not know how long-ish they are'"
   ]
  },
  {
   "cell_type": "code",
   "execution_count": 48,
   "id": "7a19b5e6-3af9-4d3a-a68f-a6863a79b341",
   "metadata": {},
   "outputs": [
    {
     "data": {
      "text/plain": [
       "['Only',\n",
       " 'find',\n",
       " 'the',\n",
       " 'hypen',\n",
       " 'words',\n",
       " 'in',\n",
       " 'this',\n",
       " 'sentence',\n",
       " 'But',\n",
       " 'you',\n",
       " 'do',\n",
       " 'not',\n",
       " 'know',\n",
       " 'how',\n",
       " 'long',\n",
       " 'ish',\n",
       " 'they',\n",
       " 'are']"
      ]
     },
     "execution_count": 48,
     "metadata": {},
     "output_type": "execute_result"
    }
   ],
   "source": [
    "re.findall(\"[\\w]+\",text)"
   ]
  },
  {
   "cell_type": "code",
   "execution_count": null,
   "id": "5b5cf240-0f4b-466c-817f-0e39c7a9f2fe",
   "metadata": {},
   "outputs": [],
   "source": []
  }
 ],
 "metadata": {
  "kernelspec": {
   "display_name": "Python 3 (ipykernel)",
   "language": "python",
   "name": "python3"
  },
  "language_info": {
   "codemirror_mode": {
    "name": "ipython",
    "version": 3
   },
   "file_extension": ".py",
   "mimetype": "text/x-python",
   "name": "python",
   "nbconvert_exporter": "python",
   "pygments_lexer": "ipython3",
   "version": "3.10.4"
  }
 },
 "nbformat": 4,
 "nbformat_minor": 5
}
