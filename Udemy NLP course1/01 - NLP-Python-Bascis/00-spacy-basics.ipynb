{
 "cells": [
  {
   "cell_type": "code",
   "execution_count": 1,
   "id": "0a8200d3-33c5-405d-949d-e57bafba4ff5",
   "metadata": {},
   "outputs": [],
   "source": [
    "import spacy\n",
    "nlp=spacy.load(\"en_core_web_sm\")"
   ]
  },
  {
   "cell_type": "code",
   "execution_count": 2,
   "id": "48d9a290-0cc7-432e-909d-2ee0bc0f093b",
   "metadata": {},
   "outputs": [],
   "source": [
    "doc= nlp(\"Tesla is buying at looking U.S. startup for $6 million\")"
   ]
  },
  {
   "cell_type": "code",
   "execution_count": 4,
   "id": "696bcba1-a122-434f-bb89-490588921d01",
   "metadata": {},
   "outputs": [
    {
     "name": "stdout",
     "output_type": "stream",
     "text": [
      "Tesla PROPN nsubj\n",
      "is AUX aux\n",
      "buying VERB ROOT\n",
      "at ADP prep\n",
      "looking VERB pcomp\n",
      "U.S. PROPN compound\n",
      "startup NOUN dobj\n",
      "for ADP prep\n",
      "$ SYM quantmod\n",
      "6 NUM compound\n",
      "million NUM pobj\n"
     ]
    }
   ],
   "source": [
    "for token in doc:\n",
    "    print(token.text,token.pos_,token.dep_)"
   ]
  },
  {
   "cell_type": "code",
   "execution_count": 5,
   "id": "32696ffb-1658-4262-9e08-0e83c8937b19",
   "metadata": {},
   "outputs": [
    {
     "data": {
      "text/plain": [
       "[('tok2vec', <spacy.pipeline.tok2vec.Tok2Vec at 0x227a86c7760>),\n",
       " ('tagger', <spacy.pipeline.tagger.Tagger at 0x227a87049a0>),\n",
       " ('parser', <spacy.pipeline.dep_parser.DependencyParser at 0x227aacda1f0>),\n",
       " ('attribute_ruler',\n",
       "  <spacy.pipeline.attributeruler.AttributeRuler at 0x227aaf86900>),\n",
       " ('lemmatizer', <spacy.lang.en.lemmatizer.EnglishLemmatizer at 0x227aaf61780>),\n",
       " ('ner', <spacy.pipeline.ner.EntityRecognizer at 0x227aacda180>)]"
      ]
     },
     "execution_count": 5,
     "metadata": {},
     "output_type": "execute_result"
    }
   ],
   "source": [
    "nlp.pipeline"
   ]
  },
  {
   "cell_type": "code",
   "execution_count": 6,
   "id": "583a8930-61a8-455a-80a9-e126c636380d",
   "metadata": {},
   "outputs": [
    {
     "data": {
      "text/plain": [
       "['tok2vec', 'tagger', 'parser', 'attribute_ruler', 'lemmatizer', 'ner']"
      ]
     },
     "execution_count": 6,
     "metadata": {},
     "output_type": "execute_result"
    }
   ],
   "source": [
    "nlp.pipe_names"
   ]
  },
  {
   "cell_type": "code",
   "execution_count": 8,
   "id": "657a7dcd-b6ec-4c45-9d26-d8e421e1d40f",
   "metadata": {},
   "outputs": [
    {
     "name": "stdout",
     "output_type": "stream",
     "text": [
      "Tesla PROPN nsubj\n",
      "is AUX aux\n",
      "buying VERB ROOT\n",
      "at ADP prep\n",
      "looking VERB pcomp\n",
      "U.S. PROPN dobj\n",
      "  SPACE dep\n",
      "startup VERB dep\n",
      "for ADP prep\n",
      "$ SYM quantmod\n",
      "6 NUM compound\n",
      "million NUM pobj\n"
     ]
    }
   ],
   "source": [
    "doc2 = nlp(\"Tesla is buying at looking U.S.  startup for $6 million\")\n",
    "for token in doc2:\n",
    "    print(token.text,token.pos_,token.dep_)"
   ]
  },
  {
   "cell_type": "code",
   "execution_count": 10,
   "id": "d626b313-c93f-42e9-9276-6e0fc137a170",
   "metadata": {},
   "outputs": [
    {
     "data": {
      "text/plain": [
       "6"
      ]
     },
     "execution_count": 10,
     "metadata": {},
     "output_type": "execute_result"
    }
   ],
   "source": [
    "doc2[10]"
   ]
  },
  {
   "cell_type": "code",
   "execution_count": 14,
   "id": "9c9bc3c6-49f9-48c4-9e39-0274d96adb7e",
   "metadata": {},
   "outputs": [
    {
     "data": {
      "text/plain": [
       "'modifier of quantifier'"
      ]
     },
     "execution_count": 14,
     "metadata": {},
     "output_type": "execute_result"
    }
   ],
   "source": [
    "spacy.explain(\"quantmod\")"
   ]
  },
  {
   "cell_type": "code",
   "execution_count": 17,
   "id": "a825f762-79be-4073-b880-00ed0d085713",
   "metadata": {},
   "outputs": [
    {
     "data": {
      "text/plain": [
       "'auxiliary'"
      ]
     },
     "execution_count": 17,
     "metadata": {},
     "output_type": "execute_result"
    }
   ],
   "source": [
    "spacy.explain(\"aux\")"
   ]
  },
  {
   "cell_type": "code",
   "execution_count": 19,
   "id": "d2a51c30-6a23-442f-8dd0-d31c3fc699e4",
   "metadata": {},
   "outputs": [
    {
     "name": "stdout",
     "output_type": "stream",
     "text": [
      "Tesla PROPN nsubj NNP Xxxxx\n",
      "is AUX aux VBZ xx\n",
      "buying VERB ROOT VBG xxxx\n",
      "at ADP prep IN xx\n",
      "looking VERB pcomp VBG xxxx\n",
      "U.S. PROPN compound NNP X.X.\n",
      "# NOUN nsubj NN #\n",
      "  SPACE dep _SP  \n",
      "startup VERB advcl VB xxxx\n",
      "for ADP prep IN xxx\n",
      "$ SYM quantmod $ $\n",
      "6 NUM compound CD d\n",
      "million NUM pobj CD xxxx\n"
     ]
    }
   ],
   "source": [
    "doc2 = nlp(\"Tesla is buying at looking U.S. #  startup for $6 million\")\n",
    "for token in doc2:\n",
    "    print(token.text,token.pos_,token.dep_, token.tag_,token.shape_)"
   ]
  },
  {
   "cell_type": "code",
   "execution_count": 22,
   "id": "6b53bbcd-bf37-4f05-bb09-c7b0e18fd883",
   "metadata": {},
   "outputs": [
    {
     "data": {
      "text/plain": [
       "spacy.tokens.doc.Doc"
      ]
     },
     "execution_count": 22,
     "metadata": {},
     "output_type": "execute_result"
    }
   ],
   "source": [
    "type(doc2)"
   ]
  },
  {
   "cell_type": "code",
   "execution_count": 20,
   "id": "3173b456-18af-4261-a869-48412770702c",
   "metadata": {},
   "outputs": [],
   "source": [
    "doc3 = nlp(u'Although commmonly attributed to John Lennon from his song \"Beautiful Boy\", \\\n",
    "the phrase \"Life is what happens to us while we are making other plans\" was written by \\\n",
    "cartoonist Allen Saunders and published in Reader\\'s Digest in 1957, when Lennon was 17.')"
   ]
  },
  {
   "cell_type": "code",
   "execution_count": 21,
   "id": "3388ca96-f60e-47e7-88da-dd399b5241bf",
   "metadata": {},
   "outputs": [
    {
     "name": "stdout",
     "output_type": "stream",
     "text": [
      "\"Life is what happens to us while we are making other plans\"\n"
     ]
    }
   ],
   "source": [
    "life_quote = doc3[16:30]\n",
    "print(life_quote)"
   ]
  },
  {
   "cell_type": "code",
   "execution_count": 23,
   "id": "349370a8-ee13-40aa-9265-0349453437cc",
   "metadata": {},
   "outputs": [
    {
     "data": {
      "text/plain": [
       "spacy.tokens.doc.Doc"
      ]
     },
     "execution_count": 23,
     "metadata": {},
     "output_type": "execute_result"
    }
   ],
   "source": [
    "type(doc3)"
   ]
  },
  {
   "cell_type": "code",
   "execution_count": 24,
   "id": "5d055b89-959c-42ad-bd77-ae903cf870c9",
   "metadata": {},
   "outputs": [],
   "source": [
    "doc4 =nlp(\"this is a sentence. this. is one more. sentence.\")"
   ]
  },
  {
   "cell_type": "code",
   "execution_count": 27,
   "id": "9c16603c-f2af-4aac-b886-3a8b2eb065fe",
   "metadata": {},
   "outputs": [
    {
     "name": "stdout",
     "output_type": "stream",
     "text": [
      "this is a sentence.\n",
      "this. is one more.\n",
      "sentence.\n"
     ]
    }
   ],
   "source": [
    "for sent in doc4.sents:\n",
    "    print(sent)"
   ]
  },
  {
   "cell_type": "code",
   "execution_count": 29,
   "id": "7c74626d-4944-4774-abae-2f45d60eb585",
   "metadata": {},
   "outputs": [
    {
     "name": "stdout",
     "output_type": "stream",
     "text": [
      "this\n",
      "is\n",
      "a\n",
      "sentence\n",
      ".\n",
      "this\n",
      ".\n",
      "is\n",
      "one\n",
      "more\n",
      ".\n",
      "sentence\n",
      ".\n"
     ]
    }
   ],
   "source": [
    "for token in doc4:\n",
    "    print(token)"
   ]
  },
  {
   "cell_type": "code",
   "execution_count": 31,
   "id": "e22d6bcb-59b9-4a97-998b-18a27af98988",
   "metadata": {},
   "outputs": [
    {
     "data": {
      "text/plain": [
       "True"
      ]
     },
     "execution_count": 31,
     "metadata": {},
     "output_type": "execute_result"
    }
   ],
   "source": [
    "doc4[5].is_sent_start"
   ]
  },
  {
   "cell_type": "code",
   "execution_count": null,
   "id": "2fb6375b-bf27-4e68-bbab-0f7ee134ad46",
   "metadata": {},
   "outputs": [],
   "source": []
  }
 ],
 "metadata": {
  "kernelspec": {
   "display_name": "Python 3 (ipykernel)",
   "language": "python",
   "name": "python3"
  },
  "language_info": {
   "codemirror_mode": {
    "name": "ipython",
    "version": 3
   },
   "file_extension": ".py",
   "mimetype": "text/x-python",
   "name": "python",
   "nbconvert_exporter": "python",
   "pygments_lexer": "ipython3",
   "version": "3.10.4"
  }
 },
 "nbformat": 4,
 "nbformat_minor": 5
}
