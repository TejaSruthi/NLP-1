{
 "cells": [
  {
   "cell_type": "code",
   "execution_count": 1,
   "id": "6e582a12-f562-4a3d-a732-7cce14f218b5",
   "metadata": {},
   "outputs": [],
   "source": [
    "import spacy\n",
    "nlp= spacy.load(\"en_core_web_sm\")"
   ]
  },
  {
   "cell_type": "code",
   "execution_count": 7,
   "id": "3b73adb9-a55d-48b5-b8d2-be906fc18997",
   "metadata": {},
   "outputs": [],
   "source": [
    "mystring = nlp(\"we're moving to L.A!. For that it will cost $800\")"
   ]
  },
  {
   "cell_type": "code",
   "execution_count": 8,
   "id": "456b7751-6dcc-4277-893e-e4928b49ede9",
   "metadata": {},
   "outputs": [
    {
     "name": "stdout",
     "output_type": "stream",
     "text": [
      "we| 're| moving| to| L.A| !| .| For| that| it| will| cost| $| 800| "
     ]
    }
   ],
   "source": [
    "for token in mystring:\n",
    "    print(token.text, end=\"| \")"
   ]
  },
  {
   "cell_type": "code",
   "execution_count": 12,
   "id": "f5123586-1a35-477a-929a-1bca0abef6cb",
   "metadata": {},
   "outputs": [
    {
     "name": "stdout",
     "output_type": "stream",
     "text": [
      "inorder| to| shift| it| will| take| twinuiewgf@uewjc.com| services| phone| number| (| 888)-234| -| 9087| "
     ]
    }
   ],
   "source": [
    "doc1 = nlp(\"inorder to shift it will take twinuiewgf@uewjc.com services phone number (888)-234-9087\")\n",
    "for token in doc1:\n",
    "    print(token.text,end=\"| \")"
   ]
  },
  {
   "cell_type": "code",
   "execution_count": 13,
   "id": "fcf58e25-bf0e-4364-b107-26de5a032abb",
   "metadata": {},
   "outputs": [
    {
     "data": {
      "text/plain": [
       "14"
      ]
     },
     "execution_count": 13,
     "metadata": {},
     "output_type": "execute_result"
    }
   ],
   "source": [
    "len(doc1)"
   ]
  },
  {
   "cell_type": "code",
   "execution_count": 14,
   "id": "451109cc-1e79-4063-81f0-66f1c21ab0e7",
   "metadata": {},
   "outputs": [
    {
     "data": {
      "text/plain": [
       "14"
      ]
     },
     "execution_count": 14,
     "metadata": {},
     "output_type": "execute_result"
    }
   ],
   "source": [
    "len(mystring)"
   ]
  },
  {
   "cell_type": "code",
   "execution_count": 16,
   "id": "1b4eb093-62da-4dfd-b4d0-34e0064d82f5",
   "metadata": {},
   "outputs": [
    {
     "data": {
      "text/plain": [
       "784"
      ]
     },
     "execution_count": 16,
     "metadata": {},
     "output_type": "execute_result"
    }
   ],
   "source": [
    "len(doc1.vocab)"
   ]
  },
  {
   "cell_type": "code",
   "execution_count": 17,
   "id": "81d4d9f3-f77f-492f-af76-e787d8f20dfb",
   "metadata": {},
   "outputs": [
    {
     "data": {
      "text/plain": [
       "784"
      ]
     },
     "execution_count": 17,
     "metadata": {},
     "output_type": "execute_result"
    }
   ],
   "source": [
    "len(mystring.vocab)"
   ]
  },
  {
   "cell_type": "code",
   "execution_count": 19,
   "id": "ac0ae70c-0202-4fca-83c6-cd51f192aa83",
   "metadata": {},
   "outputs": [],
   "source": [
    "# if we load the larger model then the vocab will change along with that len will also change"
   ]
  },
  {
   "cell_type": "code",
   "execution_count": 37,
   "id": "0e18a2c4-a179-433d-aee2-aca3edf68d84",
   "metadata": {},
   "outputs": [],
   "source": [
    "# we have token.pos_(POS), token.dep_(SYNTACTIC DEPENDENCY),  token.tag_(DETAILED POS), token.text, -->token operations we can also called span(just for my understanding)\n",
    "# doc.sents, -->for entire document\n",
    "# ents.label_ --> for entities only\n",
    "# token.is_sent_start (as of know.. i know)\n",
    "\n",
    "\n",
    "# doc.ents(entities not stopwords...), doc.sents(sentences), doc.noun_chunks(noun chunks), doc(tokens)\n",
    "# there is difference between noun chunks and entities only after executing u will come to know..."
   ]
  },
  {
   "cell_type": "code",
   "execution_count": 26,
   "id": "571c8280-b613-4b99-8d00-a824d3936995",
   "metadata": {},
   "outputs": [
    {
     "name": "stdout",
     "output_type": "stream",
     "text": [
      "Apple  -  ORG  -  Companies, agencies, institutions, etc.\n",
      "Hong Kong  -  GPE  -  Countries, cities, states\n",
      "$6 million  -  MONEY  -  Monetary values, including unit\n"
     ]
    }
   ],
   "source": [
    "doc2 = nlp(\"Apple to build a Hong Kong factory for $6 million\")\n",
    "for token in doc2.ents:\n",
    "    print(token.text,\" - \", token.label_,\" - \",spacy.explain(token.label_))"
   ]
  },
  {
   "cell_type": "code",
   "execution_count": 30,
   "id": "61996714-a7df-4c09-be1e-5aae828f6750",
   "metadata": {},
   "outputs": [
    {
     "data": {
      "text/plain": [
       "3"
      ]
     },
     "execution_count": 30,
     "metadata": {},
     "output_type": "execute_result"
    }
   ],
   "source": [
    "len(doc2.ents) #--> gives all entities in doc"
   ]
  },
  {
   "cell_type": "code",
   "execution_count": 31,
   "id": "ecb1f4a8-0acb-428e-a230-8444f0532de3",
   "metadata": {},
   "outputs": [
    {
     "data": {
      "text/plain": [
       "11"
      ]
     },
     "execution_count": 31,
     "metadata": {},
     "output_type": "execute_result"
    }
   ],
   "source": [
    "len(doc2) #--> gives all token count in doc"
   ]
  },
  {
   "cell_type": "code",
   "execution_count": 35,
   "id": "b287dcc9-c749-42d1-ab5f-b167c78effc3",
   "metadata": {},
   "outputs": [
    {
     "name": "stdout",
     "output_type": "stream",
     "text": [
      "Leela\n",
      "Autonomous cars\n",
      "shift insurance liability\n",
      "manufacturers\n"
     ]
    }
   ],
   "source": [
    "doc3 = nlp(u\"Leela brought Autonomous cars with shift insurance liability toward manufacturers.\")\n",
    "\n",
    "for chunk in doc3.noun_chunks:\n",
    "    print(chunk)"
   ]
  },
  {
   "cell_type": "code",
   "execution_count": 36,
   "id": "58976860-ef33-447a-b517-78b986978ee0",
   "metadata": {},
   "outputs": [
    {
     "name": "stdout",
     "output_type": "stream",
     "text": [
      "Leela\n"
     ]
    }
   ],
   "source": [
    "for entites in doc3.ents:\n",
    "    print(entites)"
   ]
  },
  {
   "cell_type": "code",
   "execution_count": null,
   "id": "208cbd43-0214-4b17-b43b-4c403bf65882",
   "metadata": {},
   "outputs": [],
   "source": []
  }
 ],
 "metadata": {
  "kernelspec": {
   "display_name": "Python 3 (ipykernel)",
   "language": "python",
   "name": "python3"
  },
  "language_info": {
   "codemirror_mode": {
    "name": "ipython",
    "version": 3
   },
   "file_extension": ".py",
   "mimetype": "text/x-python",
   "name": "python",
   "nbconvert_exporter": "python",
   "pygments_lexer": "ipython3",
   "version": "3.10.4"
  }
 },
 "nbformat": 4,
 "nbformat_minor": 5
}
