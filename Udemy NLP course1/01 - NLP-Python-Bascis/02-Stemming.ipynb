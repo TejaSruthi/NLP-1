{
 "cells": [
  {
   "cell_type": "code",
   "execution_count": 1,
   "id": "da4e45b1-964f-4472-9aa0-7fefa6a27dce",
   "metadata": {},
   "outputs": [],
   "source": [
    "import nltk"
   ]
  },
  {
   "cell_type": "code",
   "execution_count": 9,
   "id": "ddcec939-5904-498f-903f-436217b8d5ec",
   "metadata": {},
   "outputs": [],
   "source": [
    "from nltk.stem.porter import PorterStemmer\n",
    "from nltk.stem.snowball import SnowballStemmer"
   ]
  },
  {
   "cell_type": "code",
   "execution_count": 11,
   "id": "119a04c8-dcf9-476f-a337-b149c612cd5f",
   "metadata": {},
   "outputs": [],
   "source": [
    "p_stemmer = PorterStemmer()\n",
    "s_stemmer = SnowballStemmer(language=\"english\")"
   ]
  },
  {
   "cell_type": "code",
   "execution_count": 15,
   "id": "b67136bf-94de-40ce-bd88-2986045bcdbd",
   "metadata": {},
   "outputs": [],
   "source": [
    "# words =[\"run\",'running', 'ran','runs','easily','fairly']\n",
    "words = ['generous','generation','generously','generate']"
   ]
  },
  {
   "cell_type": "code",
   "execution_count": 16,
   "id": "37faffb2-1d99-4f7b-aac3-a0cc02c480d2",
   "metadata": {},
   "outputs": [
    {
     "name": "stdout",
     "output_type": "stream",
     "text": [
      "generous ---> gener  --- generous\n",
      "generation ---> gener  --- generat\n",
      "generously ---> gener  --- generous\n",
      "generate ---> gener  --- generat\n"
     ]
    }
   ],
   "source": [
    "for word in words:\n",
    "    print(word+' ---> '+p_stemmer.stem(word),\" --- \"+s_stemmer.stem(word))"
   ]
  },
  {
   "cell_type": "code",
   "execution_count": 14,
   "id": "32079c5d-f507-41c9-8210-ff5c7d94ab5d",
   "metadata": {},
   "outputs": [
    {
     "name": "stdout",
     "output_type": "stream",
     "text": [
      "run ---> run\n",
      "running ---> run\n",
      "ran ---> ran\n",
      "runs ---> run\n",
      "easily ---> easili\n",
      "fairly ---> fair\n"
     ]
    }
   ],
   "source": [
    "from nltk.stem.snowball import SnowballStemmer\n",
    "s_stemmer = SnowballStemmer(language=\"english\")\n",
    "for word in words:\n",
    "    print(word+\" ---> \"+s_stemmer.stem(word))"
   ]
  },
  {
   "cell_type": "code",
   "execution_count": 17,
   "id": "be22aa27-0314-4504-a7b8-5a16367b7244",
   "metadata": {},
   "outputs": [],
   "source": [
    "words =[\"consolingly\"]"
   ]
  },
  {
   "cell_type": "code",
   "execution_count": 19,
   "id": "7a38abc3-05d6-43b4-8b91-ae5bdf3c40c7",
   "metadata": {},
   "outputs": [
    {
     "name": "stdout",
     "output_type": "stream",
     "text": [
      "Porter Stemmer:\n",
      "consolingly --> consolingli\n"
     ]
    }
   ],
   "source": [
    "print(\"Porter Stemmer:\")\n",
    "for word in words:\n",
    "    print(word+\" --> \"+p_stemmer.stem(word))"
   ]
  },
  {
   "cell_type": "code",
   "execution_count": 20,
   "id": "15b3e3a4-7bbc-4277-8154-6a65799d1850",
   "metadata": {},
   "outputs": [
    {
     "name": "stdout",
     "output_type": "stream",
     "text": [
      "Porter2 Stemmer (snowball stemmer):\n",
      "consolingly --> consol\n"
     ]
    }
   ],
   "source": [
    "print(\"Porter2 Stemmer (snowball stemmer):\")\n",
    "for word in words:\n",
    "    print(word+\" --> \"+s_stemmer.stem(word))"
   ]
  },
  {
   "cell_type": "code",
   "execution_count": 22,
   "id": "ccac25d2-8e8e-4a64-8af6-e795a1454c7d",
   "metadata": {},
   "outputs": [
    {
     "name": "stdout",
     "output_type": "stream",
     "text": [
      "I --> i -- i\n",
      "am --> am -- am\n",
      "meeting --> meet -- meet\n",
      "him --> him -- him\n",
      "tomorrow --> tomorrow -- tomorrow\n",
      "at --> at -- at\n",
      "the --> the -- the\n",
      "meeting --> meet -- meet\n"
     ]
    }
   ],
   "source": [
    "phrase = 'I am meeting him tomorrow at the meeting'\n",
    "for word in phrase.split():\n",
    "    print(word+' --> '+p_stemmer.stem(word)+\" -- \"+s_stemmer.stem(word))"
   ]
  },
  {
   "cell_type": "code",
   "execution_count": null,
   "id": "7e666d2d-c342-46a6-92bd-d6ed56f82d91",
   "metadata": {},
   "outputs": [],
   "source": []
  }
 ],
 "metadata": {
  "kernelspec": {
   "display_name": "Python 3 (ipykernel)",
   "language": "python",
   "name": "python3"
  },
  "language_info": {
   "codemirror_mode": {
    "name": "ipython",
    "version": 3
   },
   "file_extension": ".py",
   "mimetype": "text/x-python",
   "name": "python",
   "nbconvert_exporter": "python",
   "pygments_lexer": "ipython3",
   "version": "3.10.4"
  }
 },
 "nbformat": 4,
 "nbformat_minor": 5
}
