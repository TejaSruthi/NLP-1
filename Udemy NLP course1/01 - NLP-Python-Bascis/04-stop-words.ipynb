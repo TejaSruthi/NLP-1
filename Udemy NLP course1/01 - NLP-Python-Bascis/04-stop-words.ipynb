{
 "cells": [
  {
   "cell_type": "code",
   "execution_count": 1,
   "id": "c1a69e39-5d37-4dcf-8469-17f6c5705b86",
   "metadata": {},
   "outputs": [],
   "source": [
    "import spacy"
   ]
  },
  {
   "cell_type": "code",
   "execution_count": 2,
   "id": "de6633ba-275b-49f4-a9ca-33ca47080581",
   "metadata": {},
   "outputs": [],
   "source": [
    "nlp = spacy.load(\"en_core_web_sm\")"
   ]
  },
  {
   "cell_type": "code",
   "execution_count": 18,
   "id": "e242058c-d0ef-4306-a0fe-56bc05399b68",
   "metadata": {},
   "outputs": [
    {
     "data": {
      "text/plain": [
       "spacy.lang.en.EnglishDefaults"
      ]
     },
     "execution_count": 18,
     "metadata": {},
     "output_type": "execute_result"
    }
   ],
   "source": [
    "nlp.Defaults"
   ]
  },
  {
   "cell_type": "code",
   "execution_count": 3,
   "id": "87ae7479-fa71-4052-a2f6-dbe0c4201b33",
   "metadata": {},
   "outputs": [
    {
     "name": "stdout",
     "output_type": "stream",
     "text": [
      "{'enough', 'too', 'give', 'such', 'go', 'than', 'mine', 'itself', 'at', 'amongst', 'whence', '’d', 'same', 'that', 'me', 'eleven', 'yet', 'i', 'after', '‘re', 'did', 'any', 'nobody', 'all', 'using', 'further', 'for', 'top', 'still', 'something', 'various', 'first', 'below', 'us', 'without', 'your', 'except', 'to', 'must', 'much', 'before', 'front', 'nine', 'very', 'due', 'just', 'serious', 'yours', 'as', 'through', 'most', 'he', 'together', 'been', 'perhaps', 'nor', 'up', '‘m', 'anyhow', 'themselves', 'either', 'against', 'are', 'six', 'whose', 'hers', 'sometimes', '‘ve', 'which', '‘d', \"'m\", 'everywhere', \"'s\", 'made', \"'re\", 're', \"n't\", 'no', 'his', 'sometime', 'cannot', 'whoever', 'bottom', 'many', 'neither', 'yourselves', 'only', 'fifty', 'third', '’s', 'do', \"'ve\", 'side', 'within', 'fifteen', 'can', 'across', 'ca', 'whom', 'thereby', 'also', 'quite', 'anything', 'they', 'if', 'had', 'during', 'whether', 'ever', 'namely', 'move', 'amount', 'often', 'well', 'one', 'beforehand', 'himself', '’re', 'though', 'again', 'onto', 'off', 'seeming', 'latter', 'already', 'make', 'both', 'twenty', 'him', 'show', 'wherein', 'should', 'please', 'there', 'a', 'ourselves', 'moreover', 'since', 'between', 'thence', 'beyond', 'some', 'ours', 'out', 'whenever', 'doing', 'whither', 'while', 'more', 'here', 'hereafter', 'it', 'by', 'of', 'upon', 'about', 'or', 'otherwise', 'get', 'nowhere', 'rather', 'around', 'n’t', 'could', 'other', 'anywhere', '’ll', 'under', 'seems', '’m', 'somewhere', 'the', 'become', 'next', 'formerly', 'therein', 'those', 'four', 'eight', 'hence', 'own', 'them', 'someone', 'she', 'down', 'into', 'being', 'above', 'empty', 'thru', 'we', 'whole', 'former', 'does', 'meanwhile', 'so', 'their', 'regarding', \"'ll\", 'full', 'n‘t', 'myself', 'hereby', '‘ll', 'in', 'hereupon', 'however', 'three', 'ten', 'its', \"'d\", 'thereafter', 'noone', 'say', 'has', 'keep', 'almost', 'yourself', 'where', 'hundred', 'now', 'seemed', 'put', 'herein', 'you', 'therefore', 'less', 'thus', 'these', 'our', 'on', 'not', '’ve', 'see', 'an', 'back', 'once', 'her', 'last', 'twelve', 'anyone', 'throughout', 'none', 'else', 'might', 'whereafter', 'another', 'every', 'elsewhere', 'name', 'via', 'least', 'done', 'with', 'everything', 'used', 'was', 'thereupon', 'indeed', 'call', 'be', 'seem', 'will', 'really', 'whereupon', 'nevertheless', 'my', 'wherever', 'several', 'never', 'somehow', 'have', 'what', 'over', 'everyone', 'always', 'two', 'few', 'from', 'each', 'herself', 'unless', 'sixty', 'whereby', 'whereas', 'but', 'anyway', 'is', 'towards', 'besides', 'because', 'afterwards', 'part', 'toward', 'alone', 'although', '‘s', 'becomes', 'per', 'would', 'take', 'then', 'until', 'even', 'mostly', 'along', 'forty', 'whatever', 'others', 'becoming', 'am', 'why', 'became', 'and', 'how', 'five', 'were', 'among', 'may', 'who', 'behind', 'latterly', 'beside', 'nothing', 'when', 'this'}\n"
     ]
    }
   ],
   "source": [
    "print(nlp.Defaults.stop_words)"
   ]
  },
  {
   "cell_type": "code",
   "execution_count": 6,
   "id": "79280f38-a14a-4413-a339-d3ba19b59700",
   "metadata": {},
   "outputs": [],
   "source": [
    "doc=nlp(\"i am trying this\")"
   ]
  },
  {
   "cell_type": "code",
   "execution_count": 10,
   "id": "5a7b0838-1406-48e6-aba3-bed73712e689",
   "metadata": {},
   "outputs": [
    {
     "data": {
      "text/plain": [
       "True"
      ]
     },
     "execution_count": 10,
     "metadata": {},
     "output_type": "execute_result"
    }
   ],
   "source": [
    "nlp.vocab[\"before\"].is_stop"
   ]
  },
  {
   "cell_type": "code",
   "execution_count": 11,
   "id": "343f08de-9294-44b1-8d54-94a9978abb78",
   "metadata": {},
   "outputs": [
    {
     "data": {
      "text/plain": [
       "True"
      ]
     },
     "execution_count": 11,
     "metadata": {},
     "output_type": "execute_result"
    }
   ],
   "source": [
    "doc.vocab[\"before\"].is_stop"
   ]
  },
  {
   "cell_type": "code",
   "execution_count": 12,
   "id": "49023253-0274-4288-9dfb-21f2bb9bb3f8",
   "metadata": {},
   "outputs": [
    {
     "name": "stdout",
     "output_type": "stream",
     "text": [
      "<spacy.lang.en.English object at 0x00000250A82322F0>\n"
     ]
    }
   ],
   "source": [
    "print(nlp)"
   ]
  },
  {
   "cell_type": "code",
   "execution_count": 13,
   "id": "b842c64e-c072-40eb-a3b6-5917a965e135",
   "metadata": {},
   "outputs": [],
   "source": [
    "nlp.Defaults.stop_words.add(\"btw\")"
   ]
  },
  {
   "cell_type": "code",
   "execution_count": 14,
   "id": "9cfee117-54f2-4b67-8ff2-bd46ab6169c3",
   "metadata": {},
   "outputs": [],
   "source": [
    "nlp.vocab[\"btw\"].is_stop = True"
   ]
  },
  {
   "cell_type": "code",
   "execution_count": 15,
   "id": "6f16adb1-e9e2-44e6-b266-887742d20879",
   "metadata": {},
   "outputs": [
    {
     "data": {
      "text/plain": [
       "True"
      ]
     },
     "execution_count": 15,
     "metadata": {},
     "output_type": "execute_result"
    }
   ],
   "source": [
    "nlp.vocab[\"btw\"].is_stop"
   ]
  },
  {
   "cell_type": "code",
   "execution_count": 16,
   "id": "79643b11-ac7b-4e77-be0f-fd9e5c36c809",
   "metadata": {},
   "outputs": [],
   "source": [
    "nlp.Defaults.stop_words.remove(\"beyond\")"
   ]
  },
  {
   "cell_type": "code",
   "execution_count": 17,
   "id": "3f44a5bf-00b7-484a-9eee-5267825003e0",
   "metadata": {},
   "outputs": [
    {
     "data": {
      "text/plain": [
       "False"
      ]
     },
     "execution_count": 17,
     "metadata": {},
     "output_type": "execute_result"
    }
   ],
   "source": [
    "nlp.vocab[\"beyond\"].is_stop"
   ]
  },
  {
   "cell_type": "code",
   "execution_count": null,
   "id": "007f7f7f-0bf9-439b-98a3-3fd8847b6639",
   "metadata": {},
   "outputs": [],
   "source": []
  }
 ],
 "metadata": {
  "kernelspec": {
   "display_name": "Python 3 (ipykernel)",
   "language": "python",
   "name": "python3"
  },
  "language_info": {
   "codemirror_mode": {
    "name": "ipython",
    "version": 3
   },
   "file_extension": ".py",
   "mimetype": "text/x-python",
   "name": "python",
   "nbconvert_exporter": "python",
   "pygments_lexer": "ipython3",
   "version": "3.10.4"
  }
 },
 "nbformat": 4,
 "nbformat_minor": 5
}
