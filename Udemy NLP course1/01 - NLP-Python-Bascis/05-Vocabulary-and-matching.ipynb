{
 "cells": [
  {
   "cell_type": "code",
   "execution_count": 1,
   "id": "39a47b7e-6da7-420b-9841-e71226249d4f",
   "metadata": {},
   "outputs": [],
   "source": [
    "import spacy\n",
    "nlp = spacy.load(\"en_core_web_sm\")"
   ]
  },
  {
   "cell_type": "code",
   "execution_count": 2,
   "id": "628ae175-9d2a-4a57-acc8-600e197b86ab",
   "metadata": {},
   "outputs": [],
   "source": [
    "from spacy.matcher import Matcher\n",
    "matcher = Matcher(nlp.vocab)"
   ]
  },
  {
   "cell_type": "code",
   "execution_count": 3,
   "id": "cd5154b2-d14b-4564-8bb2-ec3fa43db656",
   "metadata": {},
   "outputs": [],
   "source": [
    "pattern1 = [[{\"LOWER\":'solarpower'}]]\n",
    "pattern2 = [[{\"LOWER\":\"solar\"},{\"LOWER\":\"power\"}]]\n",
    "pattern3 = [[{\"LOWER\":\"solar\"},{\"IS_PUNCT\":True},{\"LOWER\":\"power\"}]]\n",
    "\n",
    "matcher.add(\"solarpower\", pattern1)\n",
    "matcher.add(\"solar power\", pattern2)\n",
    "matcher.add(\"solar-power\", pattern3)"
   ]
  },
  {
   "cell_type": "code",
   "execution_count": 4,
   "id": "e938e40f-bc70-42df-9f5b-645a8337d1dc",
   "metadata": {},
   "outputs": [],
   "source": [
    "doc = nlp(u'The Solar Power industry continues to grow as demand \\\n",
    "for solarpower increases. Solar---power cars are gaining popularity.')"
   ]
  },
  {
   "cell_type": "code",
   "execution_count": 5,
   "id": "a2183cb0-2c9e-4356-81d7-11cd83c19388",
   "metadata": {},
   "outputs": [
    {
     "name": "stdout",
     "output_type": "stream",
     "text": [
      "[(16724175783348104552, 1, 3), (5703546853475899243, 10, 11), (2658704662712522600, 13, 16)]\n"
     ]
    }
   ],
   "source": [
    "found_matches = matcher(doc)\n",
    "print(found_matches)"
   ]
  },
  {
   "cell_type": "code",
   "execution_count": 6,
   "id": "8333156b-18be-4441-8a0e-b5b3ff9a9a78",
   "metadata": {},
   "outputs": [
    {
     "name": "stdout",
     "output_type": "stream",
     "text": [
      "Solar Power 1 3 solar power\n",
      "solarpower 10 11 solarpower\n",
      "Solar---power 13 16 solar-power\n"
     ]
    }
   ],
   "source": [
    "for match_id, start, end in found_matches:\n",
    "    strng = nlp.vocab.strings[match_id]\n",
    "    text = doc[start:end]\n",
    "    print(text.text, start, end, strng)"
   ]
  },
  {
   "cell_type": "code",
   "execution_count": 46,
   "id": "0fd7c1b0-e40e-4399-b127-e63cccdb3477",
   "metadata": {},
   "outputs": [
    {
     "data": {
      "text/plain": [
       "<spacy.strings.StringStore at 0x22b5ef99e90>"
      ]
     },
     "execution_count": 46,
     "metadata": {},
     "output_type": "execute_result"
    }
   ],
   "source": [
    "nlp.vocab.strings"
   ]
  },
  {
   "cell_type": "code",
   "execution_count": 7,
   "id": "24f7c113-4e35-49ff-b538-e35dfd100b1b",
   "metadata": {},
   "outputs": [],
   "source": [
    "def on_match(matcher, doc, id, matches):\n",
    "    print('Matched!', matches)\n",
    "\n",
    "matcher = Matcher(nlp.vocab)\n",
    "patterns = [\n",
    "   [{\"LOWER\": \"hello\"}, {\"LOWER\": \"world\"}],\n",
    "   [{\"TEXT\": \"Google\"}, {\"TEXT\": \"Maps\"}]\n",
    "]\n",
    "matcher.add(\"TEST_PATTERNS\", patterns)\n",
    "doc = nlp(\"HELLO WORLD on Google Maps.\")\n",
    "matches = matcher(doc)"
   ]
  },
  {
   "cell_type": "code",
   "execution_count": 8,
   "id": "99714dea-22db-46ed-abb4-23d990912502",
   "metadata": {},
   "outputs": [
    {
     "name": "stdout",
     "output_type": "stream",
     "text": [
      "HELLO WORLD 0 2 TEST_PATTERNS\n",
      "Google Maps 3 5 TEST_PATTERNS\n"
     ]
    }
   ],
   "source": [
    "for match_id, start, end in matches:\n",
    "    strng = nlp.vocab.strings[match_id]\n",
    "    text = doc[start:end]\n",
    "    print(text.text, start, end, strng)"
   ]
  },
  {
   "cell_type": "code",
   "execution_count": 39,
   "id": "65310472-512c-4796-a843-089658ea75ba",
   "metadata": {},
   "outputs": [],
   "source": [
    "matcher = Matcher(nlp.vocab)\n",
    "pattern1 = [[{\"LOWER\":\"hello\"},{\"LOWER\":\"world\"}],[{\"TEXT\":\"HELLO\"},{\"TEXT\":\"WORLD\"}]]\n",
    "pattern2 = [[{\"LOWER\": \"GOOGLE\"},{\"LOWER\":\"MAPS\"}]]\n",
    "matcher.add(\"Hello World\",pattern1)\n",
    "matcher.add(\"google maps\",pattern2)"
   ]
  },
  {
   "cell_type": "code",
   "execution_count": 40,
   "id": "8754f7ad-acd7-4c2c-bb6b-5638d4ccbcbe",
   "metadata": {},
   "outputs": [],
   "source": [
    "doc = nlp(\"HELLO WORLD on google maps. hello world\")\n",
    "matches = matcher(doc)"
   ]
  },
  {
   "cell_type": "code",
   "execution_count": 41,
   "id": "b3d0d576-2814-4699-a3ea-58988450940e",
   "metadata": {},
   "outputs": [
    {
     "name": "stdout",
     "output_type": "stream",
     "text": [
      "HELLO WORLD 0 2 Hello World\n",
      "hello world 6 8 Hello World\n"
     ]
    }
   ],
   "source": [
    "for match_id, start, end in matches:\n",
    "    strng = nlp.vocab.strings[match_id]\n",
    "    text = doc[start:end]\n",
    "    print(text.text, start, end, strng)"
   ]
  },
  {
   "cell_type": "code",
   "execution_count": 31,
   "id": "1da8bdb8-2b33-4fa1-ae5d-2d1020179de7",
   "metadata": {},
   "outputs": [],
   "source": [
    "matcher = Matcher(nlp.vocab)"
   ]
  },
  {
   "cell_type": "code",
   "execution_count": 32,
   "id": "defb12b1-4118-4c03-805d-8f5c92b3bad9",
   "metadata": {},
   "outputs": [],
   "source": [
    "pattern1 = [[{\"TEXT\":\"solar\"}]]\n",
    "# pattern2 = [[{'LOWER': 'solar'}, {'IS_PUNCT': True, 'OP':'*'}, {'LOWER': 'power'}]]\n",
    "# pattern3 = [[{'LOWER': 'solarpowered'}]]\n",
    "# pattern4 = [[{'LOWER': 'solar'}, {'IS_PUNCT': True, 'OP':'*'}, {'LOWER': 'powered'}]]\n",
    "matcher.add(\"solar\", pattern1)\n",
    "# matcher.add(\"solar_power_with_many_punc\",pattern2)\n",
    "# matcher.add(\"solarpowered\", pattern3)\n",
    "# matcher.add(\"solar_powered_with_many_punc\",pattern4)"
   ]
  },
  {
   "cell_type": "code",
   "execution_count": 20,
   "id": "bb98a16c-3cb4-41de-99a6-fdddd613a980",
   "metadata": {},
   "outputs": [],
   "source": [
    "\n",
    "# matcher.remove(\"solar_power_with_many_punc\")\n",
    "# matcher.remove(\"solar_powered_with_many_punc\")"
   ]
  },
  {
   "cell_type": "code",
   "execution_count": 33,
   "id": "996887f9-9336-4a3b-8a0f-362d7c159fb6",
   "metadata": {},
   "outputs": [],
   "source": [
    "doc = nlp('solar Solarpowered energy runs solar solar-powered cars. solar .')"
   ]
  },
  {
   "cell_type": "code",
   "execution_count": 34,
   "id": "35d0370d-9f91-40b7-b94a-62085b2b68d1",
   "metadata": {},
   "outputs": [],
   "source": [
    "matches = matcher(doc)"
   ]
  },
  {
   "cell_type": "code",
   "execution_count": 35,
   "id": "aca0622a-b880-43c9-b8b2-5f93352e71c2",
   "metadata": {},
   "outputs": [
    {
     "name": "stdout",
     "output_type": "stream",
     "text": [
      "solar 0 1 solar\n",
      "solar 4 5 solar\n",
      "solar 5 6 solar\n",
      "solar 10 11 solar\n"
     ]
    }
   ],
   "source": [
    "for match_id, start, end in matches:\n",
    "    matched_pattern = nlp.vocab.strings[match_id]\n",
    "    text =doc[start:end]\n",
    "    print(text.text, start, end, matched_pattern)"
   ]
  },
  {
   "cell_type": "code",
   "execution_count": 43,
   "id": "29544962-7bf8-43d4-8dfe-3744acf99594",
   "metadata": {},
   "outputs": [],
   "source": [
    "text='Reaganomics (/reɪɡəˈnɒmɪks/; a portmanteau of Reagan and economics attributed to Paul Harvey),[1] or \\\n",
    "Reaganism, were the neoliberal[2][3][4] economic policies promoted by U.S. President Ronald Reagan during the 1980s. \\\n",
    "These policies are characterized as supply-side economics, trickle-down economics, or \"voodoo economics\" \\\n",
    "by opponents,[5] while Reagan and his advocates preferred to call it free-market economics.'"
   ]
  },
  {
   "cell_type": "code",
   "execution_count": 44,
   "id": "ef316267-3f9a-47e0-b26d-8e24c7ef8f82",
   "metadata": {},
   "outputs": [],
   "source": [
    "doc3 = nlp(text)"
   ]
  },
  {
   "cell_type": "code",
   "execution_count": 47,
   "id": "d82fd63b-4c89-43cb-803e-c3e38d1c9b0f",
   "metadata": {},
   "outputs": [],
   "source": [
    "from spacy.matcher import PhraseMatcher\n",
    "matcher = PhraseMatcher(nlp.vocab)"
   ]
  },
  {
   "cell_type": "code",
   "execution_count": 49,
   "id": "7ace4dc8-1518-4c4d-ab31-71500af5be12",
   "metadata": {},
   "outputs": [],
   "source": [
    "# First, create a list of match phrases:\n",
    "phrase_list = ['voodoo economics', 'supply-side economics', 'trickle-down economics', 'free-market economics']\n",
    "\n",
    "# Next, convert each phrase to a Doc object:\n",
    "phrase_patterns = [nlp(text) for text in phrase_list]\n",
    "# for i in phrase_list:\n",
    "#     print(nlp(i))\n",
    "\n",
    "# Pass each Doc object into matcher (note the use of the asterisk!):\n",
    "matcher.add('VoodooEconomics',phrase_patterns)\n",
    "\n",
    "# Build a list of matches:\n",
    "matches = matcher(doc3)"
   ]
  },
  {
   "cell_type": "code",
   "execution_count": 50,
   "id": "fa9dbfbf-8909-4290-9f31-652440c22cde",
   "metadata": {},
   "outputs": [
    {
     "name": "stdout",
     "output_type": "stream",
     "text": [
      "supply-side economics 39 43 VoodooEconomics\n",
      "trickle-down economics 44 48 VoodooEconomics\n",
      "voodoo economics 51 53 VoodooEconomics\n",
      "free-market economics 66 70 VoodooEconomics\n"
     ]
    }
   ],
   "source": [
    "for match_id, start,end in matches:\n",
    "    matched_pattern = nlp.vocab.strings[match_id]\n",
    "    text = doc3[start:end]\n",
    "    print(text.text, start, end, matched_pattern)"
   ]
  },
  {
   "cell_type": "code",
   "execution_count": 51,
   "id": "f790f478-9450-4f37-a8f8-13bc3bfc9f96",
   "metadata": {},
   "outputs": [],
   "source": [
    "sents =[sent for sent in doc3.sents]"
   ]
  },
  {
   "cell_type": "code",
   "execution_count": 53,
   "id": "23d77ebf-12d8-415e-a1d4-48c221910e42",
   "metadata": {},
   "outputs": [
    {
     "name": "stdout",
     "output_type": "stream",
     "text": [
      "0 71\n"
     ]
    }
   ],
   "source": [
    "print(sents[0].start, sents[1].end)"
   ]
  },
  {
   "cell_type": "code",
   "execution_count": null,
   "id": "3b63e25c-8481-4971-95fd-91f00b1a2e49",
   "metadata": {},
   "outputs": [],
   "source": []
  }
 ],
 "metadata": {
  "kernelspec": {
   "display_name": "Python 3 (ipykernel)",
   "language": "python",
   "name": "python3"
  },
  "language_info": {
   "codemirror_mode": {
    "name": "ipython",
    "version": 3
   },
   "file_extension": ".py",
   "mimetype": "text/x-python",
   "name": "python",
   "nbconvert_exporter": "python",
   "pygments_lexer": "ipython3",
   "version": "3.10.4"
  }
 },
 "nbformat": 4,
 "nbformat_minor": 5
}
