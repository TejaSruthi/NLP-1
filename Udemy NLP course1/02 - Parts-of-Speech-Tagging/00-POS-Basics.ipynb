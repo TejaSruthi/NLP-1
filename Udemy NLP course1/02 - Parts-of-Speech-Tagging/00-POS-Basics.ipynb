{
 "cells": [
  {
   "cell_type": "code",
   "execution_count": 1,
   "id": "ab992632-a2fe-45f7-978f-2f0b48604e69",
   "metadata": {},
   "outputs": [],
   "source": [
    "import spacy\n",
    "nlp = spacy.load(\"en_core_web_sm\")"
   ]
  },
  {
   "cell_type": "code",
   "execution_count": 2,
   "id": "09d474dc-f65f-4499-a333-f6880523bcaf",
   "metadata": {},
   "outputs": [],
   "source": [
    "doc = nlp(\"The quick brown fox jumped over the lazy dog's back.\")"
   ]
  },
  {
   "cell_type": "code",
   "execution_count": 3,
   "id": "a3ec5b36-765e-4b1e-832f-f134a25ddb93",
   "metadata": {},
   "outputs": [
    {
     "name": "stdout",
     "output_type": "stream",
     "text": [
      "The quick brown fox jumped over the lazy dog's back.\n"
     ]
    }
   ],
   "source": [
    "print(doc)"
   ]
  },
  {
   "cell_type": "code",
   "execution_count": 4,
   "id": "31fbc2c4-4663-4973-a57a-078d35c7e73b",
   "metadata": {},
   "outputs": [
    {
     "name": "stdout",
     "output_type": "stream",
     "text": [
      "The quick brown fox jumped over the lazy dog's back.\n"
     ]
    }
   ],
   "source": [
    "print(doc.text)"
   ]
  },
  {
   "cell_type": "code",
   "execution_count": 6,
   "id": "802c4a04-6368-4ee4-bad9-b362b97a9412",
   "metadata": {},
   "outputs": [
    {
     "name": "stdout",
     "output_type": "stream",
     "text": [
      "jumped jump VERB ROOT VBD verb, past tense\n"
     ]
    }
   ],
   "source": [
    "# Print the fifth word and associated tags:\n",
    "print(doc[4].text, doc[4].lemma_, doc[4].pos_,doc[4].dep_, doc[4].tag_, spacy.explain(doc[4].tag_))"
   ]
  },
  {
   "cell_type": "code",
   "execution_count": 8,
   "id": "6f50acad-dd17-4e78-8686-9e77ec5d7b90",
   "metadata": {},
   "outputs": [
    {
     "name": "stdout",
     "output_type": "stream",
     "text": [
      "The        DET      DT     determiner\n",
      "quick      ADJ      JJ     adjective (English), other noun-modifier (Chinese)\n",
      "brown      ADJ      JJ     adjective (English), other noun-modifier (Chinese)\n",
      "fox        NOUN     NN     noun, singular or mass\n",
      "jumped     VERB     VBD    verb, past tense\n",
      "over       ADP      IN     conjunction, subordinating or preposition\n",
      "the        DET      DT     determiner\n",
      "lazy       ADJ      JJ     adjective (English), other noun-modifier (Chinese)\n",
      "dog        NOUN     NN     noun, singular or mass\n",
      "'s         PART     POS    possessive ending\n",
      "back       NOUN     NN     noun, singular or mass\n",
      ".          PUNCT    .      punctuation mark, sentence closer\n"
     ]
    }
   ],
   "source": [
    "for token in doc:\n",
    "    print(f'{token.text:{10}} {token.pos_:{8}} {token.tag_:{6}} {spacy.explain(token.tag_)}')"
   ]
  },
  {
   "cell_type": "code",
   "execution_count": 9,
   "id": "86f9ecc6-f98b-478b-bd7c-284a9d3b54a6",
   "metadata": {},
   "outputs": [],
   "source": [
    "doc = nlp(\"I read books on NLP.\")"
   ]
  },
  {
   "cell_type": "code",
   "execution_count": 10,
   "id": "9f5f047d-1eb2-4076-9a38-b379a982e846",
   "metadata": {},
   "outputs": [],
   "source": [
    "r= doc[1]"
   ]
  },
  {
   "cell_type": "code",
   "execution_count": 11,
   "id": "6af9f89c-fe41-4abf-8612-79f3c273f97b",
   "metadata": {},
   "outputs": [
    {
     "name": "stdout",
     "output_type": "stream",
     "text": [
      "read       VERB     VBP    punctuation mark, sentence closer\n"
     ]
    }
   ],
   "source": [
    "print(f\"{r.text:{10}} {r.pos_:{8}} {r.tag_:{6}} {spacy.explain(token.tag_)}\")"
   ]
  },
  {
   "cell_type": "code",
   "execution_count": 12,
   "id": "43c9d3fb-b817-4dac-be03-66413a8bad8e",
   "metadata": {},
   "outputs": [],
   "source": [
    "doc = nlp(\"The quick brown fox jumped over the lazy dog's back.\")"
   ]
  },
  {
   "cell_type": "code",
   "execution_count": 13,
   "id": "02abf762-dab7-4f7a-89a4-86bcedd58ebb",
   "metadata": {},
   "outputs": [],
   "source": [
    "POS_Counts = doc.count_by(spacy.attrs.POS)"
   ]
  },
  {
   "cell_type": "code",
   "execution_count": 14,
   "id": "8cdca640-8330-48b2-8aa6-d13e52744447",
   "metadata": {},
   "outputs": [
    {
     "data": {
      "text/plain": [
       "{90: 2, 84: 3, 92: 3, 100: 1, 85: 1, 94: 1, 97: 1}"
      ]
     },
     "execution_count": 14,
     "metadata": {},
     "output_type": "execute_result"
    }
   ],
   "source": [
    "POS_Counts"
   ]
  },
  {
   "cell_type": "code",
   "execution_count": 15,
   "id": "e9c7fa31-c66b-45fa-98f6-870a8fa64a98",
   "metadata": {},
   "outputs": [
    {
     "data": {
      "text/plain": [
       "'IS_LOWER'"
      ]
     },
     "execution_count": 15,
     "metadata": {},
     "output_type": "execute_result"
    }
   ],
   "source": [
    "doc.vocab[4].text"
   ]
  },
  {
   "cell_type": "code",
   "execution_count": 16,
   "id": "9fc4cdf1-b8a7-40f2-b55a-b9e92fab5289",
   "metadata": {},
   "outputs": [
    {
     "data": {
      "text/plain": [
       "'VERB'"
      ]
     },
     "execution_count": 16,
     "metadata": {},
     "output_type": "execute_result"
    }
   ],
   "source": [
    "doc.vocab[100].text"
   ]
  },
  {
   "cell_type": "code",
   "execution_count": 17,
   "id": "e9373365-3064-4a01-9459-8fe27cc02e49",
   "metadata": {},
   "outputs": [
    {
     "data": {
      "text/plain": [
       "779"
      ]
     },
     "execution_count": 17,
     "metadata": {},
     "output_type": "execute_result"
    }
   ],
   "source": [
    "len(doc.vocab)"
   ]
  },
  {
   "cell_type": "code",
   "execution_count": 18,
   "id": "7c52c788-ac5d-419b-8d67-6690df99a91c",
   "metadata": {},
   "outputs": [
    {
     "name": "stdout",
     "output_type": "stream",
     "text": [
      "84. ADJ   : 3\n",
      "85. ADP   : 1\n",
      "90. DET   : 2\n",
      "92. NOUN  : 3\n",
      "94. PART  : 1\n",
      "97. PUNCT : 1\n",
      "100. VERB  : 1\n"
     ]
    }
   ],
   "source": [
    "for k,v in sorted(POS_Counts.items()):\n",
    "    print(f\"{k}. {doc.vocab[k].text:{5}} : {v}\")"
   ]
  },
  {
   "cell_type": "code",
   "execution_count": 20,
   "id": "3f1ec3ec-6728-47c5-abf5-1c3face2e885",
   "metadata": {},
   "outputs": [
    {
     "name": "stdout",
     "output_type": "stream",
     "text": [
      "15267657372422890137. DT  :2\n",
      "10554686591937588953. JJ  :3\n",
      "15308085513773655218. NN  :3\n",
      "17109001835818727656. VBD :1\n",
      "1292078113972184607. IN  :1\n",
      "74. POS :1\n",
      "12646065887601541794. .   :1\n"
     ]
    }
   ],
   "source": [
    "TAG_Counts = doc.count_by(spacy.attrs.TAG)\n",
    "\n",
    "for k,v in TAG_Counts.items():\n",
    "    print(f\"{k}. {doc.vocab[k].text:{4}}:{v}\")"
   ]
  },
  {
   "cell_type": "code",
   "execution_count": 21,
   "id": "83c2c79c-e122-4d66-9225-fa3eadfaccd3",
   "metadata": {},
   "outputs": [
    {
     "name": "stdout",
     "output_type": "stream",
     "text": [
      "415. det :2\n",
      "402. amod:3\n",
      "429. nsubj:1\n",
      "8206900633647566924. ROOT:1\n",
      "443. prep:1\n",
      "439. pobj:1\n",
      "8110129090154140942. case:1\n",
      "400. advmod:1\n",
      "445. punct:1\n"
     ]
    }
   ],
   "source": [
    "DEP_Counts = doc.count_by(spacy.attrs.DEP)\n",
    "\n",
    "for k,v in DEP_Counts.items():\n",
    "    print(f\"{k}. {doc.vocab[k].text:{4}}:{v}\")"
   ]
  },
  {
   "cell_type": "code",
   "execution_count": 22,
   "id": "ec778e40-2541-4e27-9ec7-96f4cde6aa85",
   "metadata": {},
   "outputs": [],
   "source": [
    "# Here we've shown spacy.attrs.POS, spacy.attrs.TAG and spacy.attrs.DEP."
   ]
  },
  {
   "cell_type": "code",
   "execution_count": null,
   "id": "bf4ab96e-92e5-42e1-9f97-0334d826d788",
   "metadata": {},
   "outputs": [],
   "source": []
  }
 ],
 "metadata": {
  "kernelspec": {
   "display_name": "Python 3 (ipykernel)",
   "language": "python",
   "name": "python3"
  },
  "language_info": {
   "codemirror_mode": {
    "name": "ipython",
    "version": 3
   },
   "file_extension": ".py",
   "mimetype": "text/x-python",
   "name": "python",
   "nbconvert_exporter": "python",
   "pygments_lexer": "ipython3",
   "version": "3.10.4"
  }
 },
 "nbformat": 4,
 "nbformat_minor": 5
}
