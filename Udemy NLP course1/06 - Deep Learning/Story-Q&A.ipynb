{
 "cells": [
  {
   "cell_type": "code",
   "execution_count": 43,
   "id": "c01051cd-1913-4498-a997-617e4404c0f0",
   "metadata": {},
   "outputs": [],
   "source": [
    "import pickle\n",
    "import numpy as np"
   ]
  },
  {
   "cell_type": "code",
   "execution_count": 44,
   "id": "bcd9e098-ffac-4ee5-bc11-2b0f62dcd75a",
   "metadata": {},
   "outputs": [],
   "source": [
    "with open(\"train_qa.txt\",\"rb\") as f:\n",
    "    train_data = pickle.load(f)"
   ]
  },
  {
   "cell_type": "code",
   "execution_count": 45,
   "id": "4a9a9dbb-2f22-424e-be7a-c7e1f3b0ba01",
   "metadata": {},
   "outputs": [],
   "source": [
    "with open(\"test_qa.txt\",\"rb\") as f:\n",
    "    test_data = pickle.load(f)"
   ]
  },
  {
   "cell_type": "code",
   "execution_count": 46,
   "id": "4a6418f3-5c55-4d8c-9b0d-0b700cd4c1c5",
   "metadata": {},
   "outputs": [
    {
     "data": {
      "text/plain": [
       "list"
      ]
     },
     "execution_count": 46,
     "metadata": {},
     "output_type": "execute_result"
    }
   ],
   "source": [
    "type(train_data)"
   ]
  },
  {
   "cell_type": "code",
   "execution_count": 47,
   "id": "2b7c593c-1d9c-4ed8-8ac2-48368319adba",
   "metadata": {},
   "outputs": [
    {
     "data": {
      "text/plain": [
       "list"
      ]
     },
     "execution_count": 47,
     "metadata": {},
     "output_type": "execute_result"
    }
   ],
   "source": [
    "type(test_data)"
   ]
  },
  {
   "cell_type": "code",
   "execution_count": 48,
   "id": "1a4fc6a4-0918-42e6-960c-ce87fd900a49",
   "metadata": {},
   "outputs": [
    {
     "data": {
      "text/plain": [
       "10000"
      ]
     },
     "execution_count": 48,
     "metadata": {},
     "output_type": "execute_result"
    }
   ],
   "source": [
    "len(train_data)"
   ]
  },
  {
   "cell_type": "code",
   "execution_count": 49,
   "id": "b7f436ef-d206-4daf-957b-074eb5e2d1e8",
   "metadata": {},
   "outputs": [
    {
     "data": {
      "text/plain": [
       "1000"
      ]
     },
     "execution_count": 49,
     "metadata": {},
     "output_type": "execute_result"
    }
   ],
   "source": [
    "len(test_data)"
   ]
  },
  {
   "cell_type": "code",
   "execution_count": 50,
   "id": "12428aef-73e1-48c5-b51a-389aac758dcb",
   "metadata": {},
   "outputs": [
    {
     "data": {
      "text/plain": [
       "(['Mary',\n",
       "  'moved',\n",
       "  'to',\n",
       "  'the',\n",
       "  'bathroom',\n",
       "  '.',\n",
       "  'Sandra',\n",
       "  'journeyed',\n",
       "  'to',\n",
       "  'the',\n",
       "  'bedroom',\n",
       "  '.'],\n",
       " ['Is', 'Sandra', 'in', 'the', 'hallway', '?'],\n",
       " 'no')"
      ]
     },
     "execution_count": 50,
     "metadata": {},
     "output_type": "execute_result"
    }
   ],
   "source": [
    "train_data[0]"
   ]
  },
  {
   "cell_type": "code",
   "execution_count": 51,
   "id": "bb96747d-3ec7-4f6d-9cd8-f222ee68a9f5",
   "metadata": {},
   "outputs": [
    {
     "data": {
      "text/plain": [
       "'Mary moved to the bathroom . Sandra journeyed to the bedroom .'"
      ]
     },
     "execution_count": 51,
     "metadata": {},
     "output_type": "execute_result"
    }
   ],
   "source": [
    "\" \".join(train_data[0][0])"
   ]
  },
  {
   "cell_type": "code",
   "execution_count": 52,
   "id": "735a1d97-3396-4a70-bb2a-310682622fa0",
   "metadata": {},
   "outputs": [
    {
     "data": {
      "text/plain": [
       "'Is Sandra in the hallway ?'"
      ]
     },
     "execution_count": 52,
     "metadata": {},
     "output_type": "execute_result"
    }
   ],
   "source": [
    "\" \".join(train_data[0][1])"
   ]
  },
  {
   "cell_type": "code",
   "execution_count": 53,
   "id": "9af1fa75-0dba-40af-98ef-25134e7a2b75",
   "metadata": {},
   "outputs": [
    {
     "data": {
      "text/plain": [
       "'no'"
      ]
     },
     "execution_count": 53,
     "metadata": {},
     "output_type": "execute_result"
    }
   ],
   "source": [
    "train_data[0][2]"
   ]
  },
  {
   "cell_type": "code",
   "execution_count": 54,
   "id": "cf7ee773-1fca-4662-acc2-c0832b2c48f9",
   "metadata": {},
   "outputs": [],
   "source": [
    "vocab = set()"
   ]
  },
  {
   "cell_type": "code",
   "execution_count": 55,
   "id": "8e9fe9d5-9c3c-4580-975a-d4bd5a178db0",
   "metadata": {},
   "outputs": [],
   "source": [
    "all_data = train_data + test_data"
   ]
  },
  {
   "cell_type": "code",
   "execution_count": 56,
   "id": "2fce8e32-0d20-4b5b-ba92-06cd84871886",
   "metadata": {},
   "outputs": [],
   "source": [
    "for story, question, answer in all_data:\n",
    "    vocab = vocab.union(set(story))\n",
    "    vocab = vocab.union(set(question))"
   ]
  },
  {
   "cell_type": "code",
   "execution_count": 57,
   "id": "3c93105b-0cb6-49bd-b2bb-331801c91538",
   "metadata": {},
   "outputs": [],
   "source": [
    "vocab.add(\"no\")\n",
    "vocab.add(\"yes\")"
   ]
  },
  {
   "cell_type": "code",
   "execution_count": 58,
   "id": "71339bfb-5f35-4f3f-ab0b-a679161ed687",
   "metadata": {},
   "outputs": [],
   "source": [
    "vocab_len = len(vocab)+1"
   ]
  },
  {
   "cell_type": "code",
   "execution_count": 59,
   "id": "7a7c7b18-b3c3-419d-846a-6c759aee459c",
   "metadata": {},
   "outputs": [],
   "source": [
    "max_story_len = max([len(data[0]) for data in all_data])"
   ]
  },
  {
   "cell_type": "code",
   "execution_count": 60,
   "id": "03c5b633-fe9c-40d7-9e13-7b5e82fcb096",
   "metadata": {},
   "outputs": [],
   "source": [
    "max_ques_len = max([len(data[1]) for data in all_data])"
   ]
  },
  {
   "cell_type": "code",
   "execution_count": 61,
   "id": "c3d4ab96-9e0d-4587-bdef-7b5331bd16c0",
   "metadata": {},
   "outputs": [
    {
     "data": {
      "text/plain": [
       "6"
      ]
     },
     "execution_count": 61,
     "metadata": {},
     "output_type": "execute_result"
    }
   ],
   "source": [
    "max_ques_len"
   ]
  },
  {
   "cell_type": "code",
   "execution_count": 62,
   "id": "b32ab396-501b-4340-a0ba-5a128fa71c28",
   "metadata": {},
   "outputs": [],
   "source": [
    "vocab_size = len(vocab) + 1"
   ]
  },
  {
   "cell_type": "code",
   "execution_count": 63,
   "id": "c95104f0-ff20-4961-8775-049102a6f544",
   "metadata": {},
   "outputs": [],
   "source": [
    "from keras.preprocessing.sequence import pad_sequences\n",
    "from keras.preprocessing.text import Tokenizer"
   ]
  },
  {
   "cell_type": "code",
   "execution_count": 64,
   "id": "9934c1fc-e548-4fa5-a3c6-be6f5c40f50e",
   "metadata": {},
   "outputs": [],
   "source": [
    "tokenizer = Tokenizer(filters=[])\n",
    "tokenizer.fit_on_texts(vocab)"
   ]
  },
  {
   "cell_type": "code",
   "execution_count": 65,
   "id": "84f92bdd-94a4-43c2-8240-7e402d4f7113",
   "metadata": {},
   "outputs": [
    {
     "data": {
      "text/plain": [
       "{'put': 1,\n",
       " 'took': 2,\n",
       " 'the': 3,\n",
       " 'hallway': 4,\n",
       " 'john': 5,\n",
       " 'grabbed': 6,\n",
       " 'down': 7,\n",
       " 'journeyed': 8,\n",
       " 'travelled': 9,\n",
       " 'office': 10,\n",
       " 'mary': 11,\n",
       " 'bedroom': 12,\n",
       " 'apple': 13,\n",
       " 'discarded': 14,\n",
       " 'back': 15,\n",
       " 'garden': 16,\n",
       " '?': 17,\n",
       " 'kitchen': 18,\n",
       " 'daniel': 19,\n",
       " 'bathroom': 20,\n",
       " 'to': 21,\n",
       " 'football': 22,\n",
       " 'went': 23,\n",
       " 'got': 24,\n",
       " 'there': 25,\n",
       " 'yes': 26,\n",
       " 'dropped': 27,\n",
       " 'moved': 28,\n",
       " 'milk': 29,\n",
       " '.': 30,\n",
       " 'picked': 31,\n",
       " 'up': 32,\n",
       " 'sandra': 33,\n",
       " 'no': 34,\n",
       " 'is': 35,\n",
       " 'left': 36,\n",
       " 'in': 37}"
      ]
     },
     "execution_count": 65,
     "metadata": {},
     "output_type": "execute_result"
    }
   ],
   "source": [
    "tokenizer.word_index"
   ]
  },
  {
   "cell_type": "code",
   "execution_count": 66,
   "id": "1f20b94b-9493-4082-9e21-23ae5b099079",
   "metadata": {},
   "outputs": [],
   "source": [
    "train_story_text =[]\n",
    "train_question_text =[]\n",
    "train_answers =[]\n",
    "\n",
    "for story, question, ans in train_data:\n",
    "    train_story_text.append(story)\n",
    "    train_question_text.append(question)"
   ]
  },
  {
   "cell_type": "code",
   "execution_count": 67,
   "id": "3b5f5778-21d7-494d-90a7-21bb16aedf91",
   "metadata": {},
   "outputs": [],
   "source": [
    "train_story_seq = tokenizer.texts_to_sequences(train_story_text)"
   ]
  },
  {
   "cell_type": "code",
   "execution_count": 68,
   "id": "0afeb3be-3613-4277-9a62-0ce473b73e7d",
   "metadata": {},
   "outputs": [
    {
     "data": {
      "text/plain": [
       "10000"
      ]
     },
     "execution_count": 68,
     "metadata": {},
     "output_type": "execute_result"
    }
   ],
   "source": [
    "len(train_story_text)"
   ]
  },
  {
   "cell_type": "code",
   "execution_count": 69,
   "id": "2aebca7a-e14a-4389-a584-55fa72dfa88b",
   "metadata": {},
   "outputs": [
    {
     "data": {
      "text/plain": [
       "10000"
      ]
     },
     "execution_count": 69,
     "metadata": {},
     "output_type": "execute_result"
    }
   ],
   "source": [
    "len(train_story_seq)"
   ]
  },
  {
   "cell_type": "code",
   "execution_count": 70,
   "id": "4e30f887-ce63-4572-acca-fc88a49d6684",
   "metadata": {},
   "outputs": [
    {
     "data": {
      "text/plain": [
       "37"
      ]
     },
     "execution_count": 70,
     "metadata": {},
     "output_type": "execute_result"
    }
   ],
   "source": [
    "len(tokenizer.word_index)"
   ]
  },
  {
   "cell_type": "code",
   "execution_count": 71,
   "id": "4040a4a5-dd6d-4385-a1aa-52ed7cc965fa",
   "metadata": {},
   "outputs": [],
   "source": [
    "word_index = tokenizer.word_index"
   ]
  },
  {
   "cell_type": "code",
   "execution_count": 76,
   "id": "51d5ea2e-2bd1-4936-bce8-a7b0a229e878",
   "metadata": {},
   "outputs": [],
   "source": [
    "def vectorize_stories(data, word_index = tokenizer.word_index, max_story_len = max_story_len, max_ques_len = max_ques_len):\n",
    "    '''\n",
    "    INPUT:\n",
    "\n",
    "    data: consisting of stories, questions and answers\n",
    "    word_index: word index dictionary from tokenizer\n",
    "    max_story_len: the length of the longest story\n",
    "    max_question_len: the length of the longest ques\n",
    "\n",
    "    OUPUT:\n",
    "\n",
    "    Vectorizes the stories, questions and queries into the padded sequences. we first loop for every story, query, answer in the data. \n",
    "    Then we convert the raw words to an word index value. Then we append each set to their appropriate output list. \n",
    "    Then once we have converted the words to numbers, we pad the sequences so they all are of equal length.\n",
    "\n",
    "    Returns this in the form of a tuple (X,Xq,Y)(padded based on max lengths)\n",
    "    '''\n",
    "    X=[]\n",
    "    Xq=[]\n",
    "    Y=[]\n",
    "    for story, query, answer in data:\n",
    "        x= [word_index[word.lower()] for word in story]\n",
    "        xq = [word_index[word.lower()] for word in query]\n",
    "        y = np.zeros(len(word_index)+1)\n",
    "        y[word_index[answer]]=1\n",
    "\n",
    "        X.append(x)\n",
    "        Xq.append(xq)\n",
    "        Y.append(y)\n",
    "\n",
    "    return (pad_sequences(X, maxlen = max_story_len), pad_sequences(Xq,maxlen = max_ques_len), np.array(Y))"
   ]
  },
  {
   "cell_type": "code",
   "execution_count": 77,
   "id": "ba825499-6184-47e5-aeb2-f1eca4c150d0",
   "metadata": {},
   "outputs": [],
   "source": [
    "inputs_train, queries_train, answer_train = vectorize_stories(train_data)"
   ]
  },
  {
   "cell_type": "code",
   "execution_count": 80,
   "id": "7f948343-ae88-4916-8258-f5764074e3ca",
   "metadata": {},
   "outputs": [],
   "source": [
    "inputs_test, queries_test, answer_test = vectorize_stories(test_data)"
   ]
  },
  {
   "cell_type": "code",
   "execution_count": null,
   "id": "df0e62f1-6992-420b-acf9-7ba38cd729e6",
   "metadata": {},
   "outputs": [],
   "source": [
    "from keras.models import Sequential\n",
    "from keras.layers import Embedding, Input, Activation, Dense, Permute, Dropout"
   ]
  }
 ],
 "metadata": {
  "kernelspec": {
   "display_name": "Python 3 (ipykernel)",
   "language": "python",
   "name": "python3"
  },
  "language_info": {
   "codemirror_mode": {
    "name": "ipython",
    "version": 3
   },
   "file_extension": ".py",
   "mimetype": "text/x-python",
   "name": "python",
   "nbconvert_exporter": "python",
   "pygments_lexer": "ipython3",
   "version": "3.10.4"
  }
 },
 "nbformat": 4,
 "nbformat_minor": 5
}
